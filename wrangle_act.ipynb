{
 "cells": [
  {
   "cell_type": "markdown",
   "metadata": {},
   "source": [
    "## Import Libraries "
   ]
  },
  {
   "cell_type": "code",
   "execution_count": 608,
   "metadata": {},
   "outputs": [],
   "source": [
    "import pandas as pd\n",
    "import requests  \n",
    "import os\n",
    "import json\n",
    "import numpy as np\n",
    "import tweepy\n",
    "from tweepy import OAuthHandler\n",
    "import json\n",
    "from timeit import default_timer as timer\n",
    "import matplotlib.pyplot as plt\n",
    "%matplotlib inline"
   ]
  },
  {
   "cell_type": "markdown",
   "metadata": {},
   "source": [
    "## Gathering data "
   ]
  },
  {
   "cell_type": "markdown",
   "metadata": {},
   "source": [
    "### 1- Twitter-Archive-Enhanced"
   ]
  },
  {
   "cell_type": "code",
   "execution_count": 609,
   "metadata": {},
   "outputs": [],
   "source": [
    "# GATHER\n",
    "twitter_archive_enhanced = pd.read_csv('twitter-archive-enhanced.csv')"
   ]
  },
  {
   "cell_type": "markdown",
   "metadata": {},
   "source": [
    "### 2- Image-Predictions"
   ]
  },
  {
   "cell_type": "code",
   "execution_count": 610,
   "metadata": {},
   "outputs": [],
   "source": [
    "link = 'https://d17h27t6h515a5.cloudfront.net/topher/2017/August/599fd2ad_image-predictions/image-predictions.tsv'\n",
    "response =requests.get(link)\n",
    "with open(os.path.join('./',link.split('/')[-1]),'wb') as file:\n",
    "    file.write(response.content)\n",
    "images_predictions = pd.read_csv('image-predictions.tsv',delimiter='\\t')"
   ]
  },
  {
   "cell_type": "markdown",
   "metadata": {},
   "source": [
    "### 3- Tweet-Json"
   ]
  },
  {
   "cell_type": "markdown",
   "metadata": {},
   "source": [
    "import tweepy\n",
    "from tweepy import OAuthHandler\n",
    "import json\n",
    "from timeit import default_timer as timer\n",
    "consumer_secret = 'HIDDEN'\n",
    "access_token = 'HIDDEN'\n",
    "access_secret = 'HIDDEN'\n",
    "\n",
    "auth = OAuthHandler(consumer_key, consumer_secret)\n",
    "auth.set_access_token(access_token, access_secret)\n",
    "\n",
    "api = tweepy.API(auth, wait_on_rate_limit=True)\n",
    "tweet_ids = df_1.tweet_id.values\n",
    "len(tweet_ids)\n",
    "count = 0\n",
    "fails_dict = {}\n",
    "start = timer()\n",
    "with open('tweet_json.txt', 'w') as outfile:\n",
    "    for tweet_id in tweet_ids:\n",
    "        count += 1\n",
    "        print(str(count) + \": \" + str(tweet_id))\n",
    "        try:\n",
    "            tweet = api.get_status(tweet_id, tweet_mode='extended')\n",
    "            print(\"Success\")\n",
    "            json.dump(tweet._json, outfile)\n",
    "            outfile.write('\\n')\n",
    "        except tweepy.TweepError as e:\n",
    "            print(\"Fail\")\n",
    "            fails_dict[tweet_id] = e\n",
    "            pass\n",
    "end = timer()\n",
    "print(end - start)\n",
    "print(fails_dict)\n"
   ]
  },
  {
   "cell_type": "code",
   "execution_count": 611,
   "metadata": {},
   "outputs": [],
   "source": [
    "tweets_info = []\n",
    "with open('tweet_json.txt','r') as file :\n",
    "    for line in file :\n",
    "        tweet = json.loads(line)\n",
    "        tweet_id = tweet['id']\n",
    "        tweet_retweet_count = tweet['retweet_count']\n",
    "        tweet_favorite_count = tweet['favorite_count']\n",
    "        tweets_info.append({'tweet_id':tweet_id,\n",
    "        'tweet_retweet_count':tweet_retweet_count ,\n",
    "        'tweet_favorite_count' : tweet_favorite_count})\n",
    "\n",
    "tweet_json_df = pd.DataFrame(tweets_info)"
   ]
  },
  {
   "cell_type": "markdown",
   "metadata": {},
   "source": [
    "## Assessing Data "
   ]
  },
  {
   "cell_type": "code",
   "execution_count": 612,
   "metadata": {},
   "outputs": [
    {
     "data": {
      "text/html": [
       "<div>\n",
       "<style scoped>\n",
       "    .dataframe tbody tr th:only-of-type {\n",
       "        vertical-align: middle;\n",
       "    }\n",
       "\n",
       "    .dataframe tbody tr th {\n",
       "        vertical-align: top;\n",
       "    }\n",
       "\n",
       "    .dataframe thead th {\n",
       "        text-align: right;\n",
       "    }\n",
       "</style>\n",
       "<table border=\"1\" class=\"dataframe\">\n",
       "  <thead>\n",
       "    <tr style=\"text-align: right;\">\n",
       "      <th></th>\n",
       "      <th>tweet_id</th>\n",
       "      <th>in_reply_to_status_id</th>\n",
       "      <th>in_reply_to_user_id</th>\n",
       "      <th>timestamp</th>\n",
       "      <th>source</th>\n",
       "      <th>text</th>\n",
       "      <th>retweeted_status_id</th>\n",
       "      <th>retweeted_status_user_id</th>\n",
       "      <th>retweeted_status_timestamp</th>\n",
       "      <th>expanded_urls</th>\n",
       "      <th>rating_numerator</th>\n",
       "      <th>rating_denominator</th>\n",
       "      <th>name</th>\n",
       "      <th>doggo</th>\n",
       "      <th>floofer</th>\n",
       "      <th>pupper</th>\n",
       "      <th>puppo</th>\n",
       "    </tr>\n",
       "  </thead>\n",
       "  <tbody>\n",
       "    <tr>\n",
       "      <th>0</th>\n",
       "      <td>892420643555336193</td>\n",
       "      <td>NaN</td>\n",
       "      <td>NaN</td>\n",
       "      <td>2017-08-01 16:23:56 +0000</td>\n",
       "      <td>&lt;a href=\"http://twitter.com/download/iphone\" r...</td>\n",
       "      <td>This is Phineas. He's a mystical boy. Only eve...</td>\n",
       "      <td>NaN</td>\n",
       "      <td>NaN</td>\n",
       "      <td>NaN</td>\n",
       "      <td>https://twitter.com/dog_rates/status/892420643...</td>\n",
       "      <td>13</td>\n",
       "      <td>10</td>\n",
       "      <td>Phineas</td>\n",
       "      <td>None</td>\n",
       "      <td>None</td>\n",
       "      <td>None</td>\n",
       "      <td>None</td>\n",
       "    </tr>\n",
       "    <tr>\n",
       "      <th>1</th>\n",
       "      <td>892177421306343426</td>\n",
       "      <td>NaN</td>\n",
       "      <td>NaN</td>\n",
       "      <td>2017-08-01 00:17:27 +0000</td>\n",
       "      <td>&lt;a href=\"http://twitter.com/download/iphone\" r...</td>\n",
       "      <td>This is Tilly. She's just checking pup on you....</td>\n",
       "      <td>NaN</td>\n",
       "      <td>NaN</td>\n",
       "      <td>NaN</td>\n",
       "      <td>https://twitter.com/dog_rates/status/892177421...</td>\n",
       "      <td>13</td>\n",
       "      <td>10</td>\n",
       "      <td>Tilly</td>\n",
       "      <td>None</td>\n",
       "      <td>None</td>\n",
       "      <td>None</td>\n",
       "      <td>None</td>\n",
       "    </tr>\n",
       "    <tr>\n",
       "      <th>2</th>\n",
       "      <td>891815181378084864</td>\n",
       "      <td>NaN</td>\n",
       "      <td>NaN</td>\n",
       "      <td>2017-07-31 00:18:03 +0000</td>\n",
       "      <td>&lt;a href=\"http://twitter.com/download/iphone\" r...</td>\n",
       "      <td>This is Archie. He is a rare Norwegian Pouncin...</td>\n",
       "      <td>NaN</td>\n",
       "      <td>NaN</td>\n",
       "      <td>NaN</td>\n",
       "      <td>https://twitter.com/dog_rates/status/891815181...</td>\n",
       "      <td>12</td>\n",
       "      <td>10</td>\n",
       "      <td>Archie</td>\n",
       "      <td>None</td>\n",
       "      <td>None</td>\n",
       "      <td>None</td>\n",
       "      <td>None</td>\n",
       "    </tr>\n",
       "    <tr>\n",
       "      <th>3</th>\n",
       "      <td>891689557279858688</td>\n",
       "      <td>NaN</td>\n",
       "      <td>NaN</td>\n",
       "      <td>2017-07-30 15:58:51 +0000</td>\n",
       "      <td>&lt;a href=\"http://twitter.com/download/iphone\" r...</td>\n",
       "      <td>This is Darla. She commenced a snooze mid meal...</td>\n",
       "      <td>NaN</td>\n",
       "      <td>NaN</td>\n",
       "      <td>NaN</td>\n",
       "      <td>https://twitter.com/dog_rates/status/891689557...</td>\n",
       "      <td>13</td>\n",
       "      <td>10</td>\n",
       "      <td>Darla</td>\n",
       "      <td>None</td>\n",
       "      <td>None</td>\n",
       "      <td>None</td>\n",
       "      <td>None</td>\n",
       "    </tr>\n",
       "    <tr>\n",
       "      <th>4</th>\n",
       "      <td>891327558926688256</td>\n",
       "      <td>NaN</td>\n",
       "      <td>NaN</td>\n",
       "      <td>2017-07-29 16:00:24 +0000</td>\n",
       "      <td>&lt;a href=\"http://twitter.com/download/iphone\" r...</td>\n",
       "      <td>This is Franklin. He would like you to stop ca...</td>\n",
       "      <td>NaN</td>\n",
       "      <td>NaN</td>\n",
       "      <td>NaN</td>\n",
       "      <td>https://twitter.com/dog_rates/status/891327558...</td>\n",
       "      <td>12</td>\n",
       "      <td>10</td>\n",
       "      <td>Franklin</td>\n",
       "      <td>None</td>\n",
       "      <td>None</td>\n",
       "      <td>None</td>\n",
       "      <td>None</td>\n",
       "    </tr>\n",
       "  </tbody>\n",
       "</table>\n",
       "</div>"
      ],
      "text/plain": [
       "             tweet_id  in_reply_to_status_id  in_reply_to_user_id  \\\n",
       "0  892420643555336193                    NaN                  NaN   \n",
       "1  892177421306343426                    NaN                  NaN   \n",
       "2  891815181378084864                    NaN                  NaN   \n",
       "3  891689557279858688                    NaN                  NaN   \n",
       "4  891327558926688256                    NaN                  NaN   \n",
       "\n",
       "                   timestamp  \\\n",
       "0  2017-08-01 16:23:56 +0000   \n",
       "1  2017-08-01 00:17:27 +0000   \n",
       "2  2017-07-31 00:18:03 +0000   \n",
       "3  2017-07-30 15:58:51 +0000   \n",
       "4  2017-07-29 16:00:24 +0000   \n",
       "\n",
       "                                              source  \\\n",
       "0  <a href=\"http://twitter.com/download/iphone\" r...   \n",
       "1  <a href=\"http://twitter.com/download/iphone\" r...   \n",
       "2  <a href=\"http://twitter.com/download/iphone\" r...   \n",
       "3  <a href=\"http://twitter.com/download/iphone\" r...   \n",
       "4  <a href=\"http://twitter.com/download/iphone\" r...   \n",
       "\n",
       "                                                text  retweeted_status_id  \\\n",
       "0  This is Phineas. He's a mystical boy. Only eve...                  NaN   \n",
       "1  This is Tilly. She's just checking pup on you....                  NaN   \n",
       "2  This is Archie. He is a rare Norwegian Pouncin...                  NaN   \n",
       "3  This is Darla. She commenced a snooze mid meal...                  NaN   \n",
       "4  This is Franklin. He would like you to stop ca...                  NaN   \n",
       "\n",
       "   retweeted_status_user_id retweeted_status_timestamp  \\\n",
       "0                       NaN                        NaN   \n",
       "1                       NaN                        NaN   \n",
       "2                       NaN                        NaN   \n",
       "3                       NaN                        NaN   \n",
       "4                       NaN                        NaN   \n",
       "\n",
       "                                       expanded_urls  rating_numerator  \\\n",
       "0  https://twitter.com/dog_rates/status/892420643...                13   \n",
       "1  https://twitter.com/dog_rates/status/892177421...                13   \n",
       "2  https://twitter.com/dog_rates/status/891815181...                12   \n",
       "3  https://twitter.com/dog_rates/status/891689557...                13   \n",
       "4  https://twitter.com/dog_rates/status/891327558...                12   \n",
       "\n",
       "   rating_denominator      name doggo floofer pupper puppo  \n",
       "0                  10   Phineas  None    None   None  None  \n",
       "1                  10     Tilly  None    None   None  None  \n",
       "2                  10    Archie  None    None   None  None  \n",
       "3                  10     Darla  None    None   None  None  \n",
       "4                  10  Franklin  None    None   None  None  "
      ]
     },
     "execution_count": 612,
     "metadata": {},
     "output_type": "execute_result"
    }
   ],
   "source": [
    "twitter_archive_enhanced.head()"
   ]
  },
  {
   "cell_type": "code",
   "execution_count": 613,
   "metadata": {},
   "outputs": [
    {
     "data": {
      "text/plain": [
       "array(['Phineas', 'Tilly', 'Archie', 'Darla', 'Franklin', 'None', 'Jax',\n",
       "       'Zoey', 'Cassie', 'Koda', 'Bruno', 'Ted', 'Stuart', 'Oliver', 'Jim',\n",
       "       'Zeke', 'Ralphus', 'Canela', 'Gerald', 'Jeffrey', 'such', 'Maya',\n",
       "       'Mingus', 'Derek', 'Roscoe', 'Waffles', 'Jimbo', 'Maisey', 'Lilly',\n",
       "       'Earl', 'Lola', 'Kevin', 'Yogi', 'Noah', 'Bella', 'Grizzwald',\n",
       "       'Rusty', 'Gus', 'Stanley', 'Alfy', 'Koko', 'Rey', 'Gary', 'a',\n",
       "       'Elliot', 'Louis', 'Jesse', 'Romeo', 'Bailey', 'Duddles', 'Jack',\n",
       "       'Emmy', 'Steven', 'Beau', 'Snoopy', 'Shadow', 'Terrance', 'Aja',\n",
       "       'Penny', 'Dante', 'Nelly', 'Ginger', 'Benedict', 'Venti', 'Goose',\n",
       "       'Nugget', 'Cash', 'Coco', 'Jed', 'Sebastian', 'Walter', 'Sierra',\n",
       "       'Monkey', 'Harry', 'Kody', 'Lassie', 'Rover', 'Napolean', 'Dawn',\n",
       "       'Boomer', 'Cody', 'Rumble', 'Clifford', 'quite', 'Dewey', 'Scout',\n",
       "       'Gizmo', 'Cooper', 'Harold', 'Shikha', 'Jamesy', 'Lili', 'Sammy',\n",
       "       'Meatball', 'Paisley', 'Albus', 'Neptune', 'Quinn', 'Belle',\n",
       "       'Zooey', 'Dave', 'Jersey', 'Hobbes', 'Burt', 'Lorenzo', 'Carl',\n",
       "       'Jordy', 'Milky', 'Trooper', 'Winston', 'Sophie', 'Wyatt', 'Rosie',\n",
       "       'Thor', 'Oscar', 'Luna', 'Callie', 'Cermet', 'George', 'Marlee',\n",
       "       'Arya', 'Einstein', 'Alice', 'Rumpole', 'Benny', 'Aspen', 'Jarod',\n",
       "       'Wiggles', 'General', 'Sailor', 'Astrid', 'Iggy', 'Snoop', 'Kyle',\n",
       "       'Leo', 'Riley', 'Gidget', 'Noosh', 'Odin', 'Jerry', 'Charlie',\n",
       "       'Georgie', 'Rontu', 'Cannon', 'Furzey', 'Daisy', 'Tuck', 'Barney',\n",
       "       'Vixen', 'Jarvis', 'Mimosa', 'Pickles', 'Bungalo', 'Brady', 'Margo',\n",
       "       'Sadie', 'Hank', 'Tycho', 'Stephan', 'Indie', 'Winnie', 'Bentley',\n",
       "       'Ken', 'Max', 'Maddie', 'Pipsy', 'Monty', 'Sojourner', 'Odie',\n",
       "       'Arlo', 'Sunny', 'Vincent', 'Lucy', 'Clark', 'Mookie', 'Meera',\n",
       "       'Buddy', 'Ava', 'Rory', 'Eli', 'Ash', 'Tucker', 'Tobi', 'Chester',\n",
       "       'Wilson', 'Sunshine', 'Lipton', 'Gabby', 'Bronte', 'Poppy', 'Rhino',\n",
       "       'Willow', 'not', 'Orion', 'Eevee', 'Smiley', 'Logan', 'Moreton',\n",
       "       'Klein', 'Miguel', 'Emanuel', 'Kuyu', 'Dutch', 'Pete', 'Scooter',\n",
       "       'Reggie', 'Kyro', 'Samson', 'Loki', 'Mia', 'Malcolm', 'Dexter',\n",
       "       'Alfie', 'Fiona', 'one', 'Mutt', 'Bear', 'Doobert', 'Beebop',\n",
       "       'Alexander', 'Sailer', 'Brutus', 'Kona', 'Boots', 'Ralphie', 'Phil',\n",
       "       'Cupid', 'Pawnd', 'Pilot', 'Ike', 'Mo', 'Toby', 'Sweet', 'Pablo',\n",
       "       'Nala', 'Balto', 'Crawford', 'Gabe', 'Mattie', 'Jimison',\n",
       "       'Hercules', 'Duchess', 'Harlso', 'Sampson', 'Sundance', 'Luca',\n",
       "       'Flash', 'Finn', 'Peaches', 'Howie', 'Jazzy', 'Anna', 'Bo',\n",
       "       'Seamus', 'Wafer', 'Chelsea', 'Tom', 'Moose', 'Florence', 'Autumn',\n",
       "       'Dido', 'Eugene', 'Herschel', 'Strudel', 'Tebow', 'Chloe', 'Betty',\n",
       "       'Timber', 'Binky', 'Dudley', 'Comet', 'Larry', 'Levi', 'Akumi',\n",
       "       'Titan', 'Olivia', 'Alf', 'Oshie', 'Bruce', 'Chubbs', 'Sky',\n",
       "       'Atlas', 'Eleanor', 'Layla', 'Rocky', 'Baron', 'Tyr', 'Bauer',\n",
       "       'Swagger', 'Brandi', 'Mary', 'Moe', 'Halo', 'Augie', 'Craig', 'Sam',\n",
       "       'Hunter', 'Pavlov', 'Maximus', 'Wallace', 'Ito', 'Milo', 'Ollie',\n",
       "       'Cali', 'Lennon', 'incredibly', 'Major', 'Duke', 'Reginald',\n",
       "       'Sansa', 'Shooter', 'Django', 'Diogi', 'Sonny', 'Philbert',\n",
       "       'Marley', 'Severus', 'Ronnie', 'Anakin', 'Bones', 'Mauve', 'Chef',\n",
       "       'Doc', 'Sobe', 'Longfellow', 'Mister', 'Iroh', 'Baloo', 'Stubert',\n",
       "       'Paull', 'Timison', 'Davey', 'Pancake', 'Tyrone', 'Snicku', 'Ruby',\n",
       "       'Brody', 'Rizzy', 'Mack', 'Butter', 'Nimbus', 'Laika', 'Dobby',\n",
       "       'Juno', 'Maude', 'Lily', 'Newt', 'Benji', 'Nida', 'Robin',\n",
       "       'Monster', 'BeBe', 'Remus', 'Mabel', 'Misty', 'Happy', 'Mosby',\n",
       "       'Maggie', 'Leela', 'Ralphy', 'Brownie', 'Meyer', 'Stella', 'mad',\n",
       "       'Frank', 'Tonks', 'Lincoln', 'Oakley', 'Dale', 'Rizzo', 'Arnie',\n",
       "       'Pinot', 'Dallas', 'Hero', 'Frankie', 'Stormy', 'Mairi', 'Loomis',\n",
       "       'Godi', 'Kenny', 'Deacon', 'Timmy', 'Harper', 'Chipson', 'Combo',\n",
       "       'Dash', 'Bell', 'Hurley', 'Jay', 'Mya', 'Strider', 'an', 'Wesley',\n",
       "       'Solomon', 'Huck', 'very', 'O', 'Blue', 'Finley', 'Sprinkles',\n",
       "       'Heinrich', 'Shakespeare', 'Fizz', 'Chip', 'Grey', 'Roosevelt',\n",
       "       'Gromit', 'Willem', 'Dakota', 'Dixie', 'Al', 'Jackson', 'just',\n",
       "       'Carbon', 'DonDon', 'Kirby', 'Lou', 'Nollie', 'Chevy', 'Tito',\n",
       "       'Louie', 'Rupert', 'Rufus', 'Brudge', 'Shadoe', 'Colby', 'Angel',\n",
       "       'Brat', 'Tove', 'my', 'Aubie', 'Kota', 'Eve', 'Glenn', 'Shelby',\n",
       "       'Sephie', 'Bonaparte', 'Albert', 'Wishes', 'Rose', 'Theo', 'Rocco',\n",
       "       'Fido', 'Emma', 'Spencer', 'Lilli', 'Boston', 'Brandonald', 'Corey',\n",
       "       'Leonard', 'Chompsky', 'Beckham', 'Devón', 'Gert', 'Watson',\n",
       "       'Rubio', 'Keith', 'Dex', 'Carly', 'Ace', 'Tayzie', 'Grizzie',\n",
       "       'Fred', 'Gilbert', 'Zoe', 'Stewie', 'Calvin', 'Lilah', 'Spanky',\n",
       "       'Jameson', 'Piper', 'Atticus', 'Blu', 'Dietrich', 'Divine', 'Tripp',\n",
       "       'his', 'Cora', 'Huxley', 'Keurig', 'Bookstore', 'Linus', 'Abby',\n",
       "       'Shaggy', 'Shiloh', 'Gustav', 'Arlen', 'Percy', 'Lenox', 'Sugar',\n",
       "       'Harvey', 'Blanket', 'actually', 'Geno', 'Stark', 'Beya', 'Kilo',\n",
       "       'Kayla', 'Maxaroni', 'Doug', 'Edmund', 'Aqua', 'Theodore', 'Chase',\n",
       "       'getting', 'Rorie', 'Simba', 'Charles', 'Bayley', 'Axel',\n",
       "       'Storkson', 'Remy', 'Chadrick', 'Kellogg', 'Buckley', 'Livvie',\n",
       "       'Terry', 'Hermione', 'Ralpher', 'Aldrick', 'this', 'unacceptable',\n",
       "       'Rooney', 'Crystal', 'Ziva', 'Stefan', 'Pupcasso', 'Puff',\n",
       "       'Flurpson', 'Coleman', 'Enchilada', 'Raymond', 'all', 'Rueben',\n",
       "       'Cilantro', 'Karll', 'Sprout', 'Blitz', 'Bloop', 'Lillie',\n",
       "       'Ashleigh', 'Kreggory', 'Sarge', 'Luther', 'Ivar', 'Jangle',\n",
       "       'Schnitzel', 'Panda', 'Berkeley', 'Ralphé', 'Charleson', 'Clyde',\n",
       "       'Harnold', 'Sid', 'Pippa', 'Otis', 'Carper', 'Bowie',\n",
       "       'Alexanderson', 'Suki', 'Barclay', 'Skittle', 'Ebby', 'Flávio',\n",
       "       'Smokey', 'Link', 'Jennifur', 'Ozzy', 'Bluebert', 'Stephanus',\n",
       "       'Bubbles', 'old', 'Zeus', 'Bertson', 'Nico', 'Michelangelope',\n",
       "       'Siba', 'Calbert', 'Curtis', 'Travis', 'Thumas', 'Kanu', 'Lance',\n",
       "       'Opie', 'Kane', 'Olive', 'Chuckles', 'Staniel', 'Sora', 'Beemo',\n",
       "       'Gunner', 'infuriating', 'Lacy', 'Tater', 'Olaf', 'Cecil', 'Vince',\n",
       "       'Karma', 'Billy', 'Walker', 'Rodney', 'Klevin', 'Malikai', 'Bobble',\n",
       "       'River', 'Jebberson', 'Remington', 'Farfle', 'Jiminus', 'Clarkus',\n",
       "       'Finnegus', 'Cupcake', 'Kathmandu', 'Ellie', 'Katie', 'Kara',\n",
       "       'Adele', 'Zara', 'Ambrose', 'Jimothy', 'Bode', 'Terrenth', 'Reese',\n",
       "       'Chesterson', 'Lucia', 'Bisquick', 'Ralphson', 'Socks', 'Rambo',\n",
       "       'Rudy', 'Fiji', 'Rilo', 'Bilbo', 'Coopson', 'Yoda', 'Millie',\n",
       "       'Chet', 'Crouton', 'Daniel', 'Kaia', 'Murphy', 'Dotsy', 'Eazy',\n",
       "       'Coops', 'Fillup', 'Miley', 'Charl', 'Reagan', 'Yukon', 'CeCe',\n",
       "       'Cuddles', 'Claude', 'Jessiga', 'Carter', 'Ole', 'Pherb', 'Blipson',\n",
       "       'Reptar', 'Trevith', 'Berb', 'Bob', 'Colin', 'Brian', 'Oliviér',\n",
       "       'Grady', 'Kobe', 'Freddery', 'Bodie', 'Dunkin', 'Wally', 'Tupawc',\n",
       "       'Amber', 'Edgar', 'Teddy', 'Kingsley', 'Brockly', 'Richie', 'Molly',\n",
       "       'Vinscent', 'Cedrick', 'Hazel', 'Lolo', 'Eriq', 'Phred', 'the',\n",
       "       'Oddie', 'Maxwell', 'Geoff', 'Covach', 'Durg', 'Fynn', 'Ricky',\n",
       "       'Herald', 'Lucky', 'Ferg', 'Trip', 'Clarence', 'Hamrick', 'Brad',\n",
       "       'Pubert', 'Frönq', 'Derby', 'Lizzie', 'Ember', 'Blakely', 'Opal',\n",
       "       'Marq', 'Kramer', 'Barry', 'Gordon', 'Baxter', 'Mona', 'Horace',\n",
       "       'Crimson', 'Birf', 'Hammond', 'Lorelei', 'Marty', 'Brooks',\n",
       "       'Petrick', 'Hubertson', 'Gerbald', 'Oreo', 'Bruiser', 'Perry',\n",
       "       'Bobby', 'Jeph', 'Obi', 'Tino', 'Kulet', 'Sweets', 'Lupe', 'Tiger',\n",
       "       'Jiminy', 'Griffin', 'Banjo', 'Brandy', 'Lulu', 'Darrel', 'Taco',\n",
       "       'Joey', 'Patrick', 'Kreg', 'Todo', 'Tess', 'Ulysses', 'Toffee',\n",
       "       'Apollo', 'Asher', 'Glacier', 'Chuck', 'Champ', 'Ozzie', 'Griswold',\n",
       "       'Cheesy', 'Moofasa', 'Hector', 'Goliath', 'Kawhi', 'by', 'Emmie',\n",
       "       'Penelope', 'Willie', 'Rinna', 'Mike', 'William', 'Dwight', 'Evy',\n",
       "       'officially', 'Rascal', 'Linda', 'Tug', 'Tango', 'Grizz', 'Jerome',\n",
       "       'Crumpet', 'Jessifer', 'Izzy', 'Ralph', 'Sandy', 'Humphrey',\n",
       "       'Tassy', 'Juckson', 'Chuq', 'Tyrus', 'Karl', 'Godzilla', 'Vinnie',\n",
       "       'Kenneth', 'Herm', 'Bert', 'Striker', 'Donny', 'Pepper', 'Bernie',\n",
       "       'Buddah', 'Lenny', 'Arnold', 'Zuzu', 'Mollie', 'Laela', 'Tedders',\n",
       "       'Superpup', 'Rufio', 'Jeb', 'Rodman', 'Jonah', 'Chesney', 'life',\n",
       "       'Henry', 'Bobbay', 'Mitch', 'Kaiya', 'Acro', 'Aiden', 'Obie', 'Dot',\n",
       "       'Shnuggles', 'Kendall', 'Jeffri', 'Steve', 'Mac', 'Fletcher',\n",
       "       'Kenzie', 'Pumpkin', 'Schnozz', 'Gustaf', 'Cheryl', 'Ed',\n",
       "       'Leonidas', 'Norman', 'Caryl', 'Scott', 'Taz', 'Darby', 'Jackie',\n",
       "       'light', 'Jazz', 'Franq', 'Pippin', 'Rolf', 'Snickers', 'Ridley',\n",
       "       'Cal', 'Bradley', 'Bubba', 'Tuco', 'Patch', 'Mojo', 'Batdog',\n",
       "       'Dylan', 'space', 'Mark', 'JD', 'Alejandro', 'Scruffers', 'Pip',\n",
       "       'Julius', 'Tanner', 'Sparky', 'Anthony', 'Holly', 'Jett', 'Amy',\n",
       "       'Sage', 'Andy', 'Mason', 'Trigger', 'Antony', 'Creg', 'Traviss',\n",
       "       'Gin', 'Jeffrie', 'Danny', 'Ester', 'Pluto', 'Bloo', 'Edd', 'Willy',\n",
       "       'Herb', 'Damon', 'Peanut', 'Nigel', 'Butters', 'Sandra', 'Fabio',\n",
       "       'Randall', 'Liam', 'Tommy', 'Ben', 'Raphael', 'Julio', 'Andru',\n",
       "       'Kloey', 'Shawwn', 'Skye', 'Kollin', 'Ronduh', 'Billl', 'Saydee',\n",
       "       'Dug', 'Tessa', 'Sully', 'Kirk', 'Ralf', 'Clarq', 'Jaspers',\n",
       "       'Samsom', 'Harrison', 'Chaz', 'Jeremy', 'Jaycob', 'Lambeau',\n",
       "       'Ruffles', 'Amélie', 'Bobb', 'Banditt', 'Kevon', 'Winifred', 'Hanz',\n",
       "       'Churlie', 'Zeek', 'Timofy', 'Maks', 'Jomathan', 'Kallie', 'Marvin',\n",
       "       'Spark', 'Gòrdón', 'Jo', 'DayZ', 'Jareld', 'Torque', 'Ron',\n",
       "       'Skittles', 'Cleopatricia', 'Erik', 'Stu', 'Tedrick', 'Filup',\n",
       "       'Kial', 'Naphaniel', 'Dook', 'Hall', 'Philippe', 'Biden', 'Fwed',\n",
       "       'Genevieve', 'Joshwa', 'Bradlay', 'Clybe', 'Keet', 'Carll',\n",
       "       'Jockson', 'Josep', 'Lugan', 'Christoper'], dtype=object)"
      ]
     },
     "execution_count": 613,
     "metadata": {},
     "output_type": "execute_result"
    }
   ],
   "source": [
    "twitter_archive_enhanced['name'].unique()"
   ]
  },
  {
   "cell_type": "code",
   "execution_count": 614,
   "metadata": {
    "scrolled": true
   },
   "outputs": [
    {
     "name": "stdout",
     "output_type": "stream",
     "text": [
      "<class 'pandas.core.frame.DataFrame'>\n",
      "RangeIndex: 2356 entries, 0 to 2355\n",
      "Data columns (total 17 columns):\n",
      "tweet_id                      2356 non-null int64\n",
      "in_reply_to_status_id         78 non-null float64\n",
      "in_reply_to_user_id           78 non-null float64\n",
      "timestamp                     2356 non-null object\n",
      "source                        2356 non-null object\n",
      "text                          2356 non-null object\n",
      "retweeted_status_id           181 non-null float64\n",
      "retweeted_status_user_id      181 non-null float64\n",
      "retweeted_status_timestamp    181 non-null object\n",
      "expanded_urls                 2297 non-null object\n",
      "rating_numerator              2356 non-null int64\n",
      "rating_denominator            2356 non-null int64\n",
      "name                          2356 non-null object\n",
      "doggo                         2356 non-null object\n",
      "floofer                       2356 non-null object\n",
      "pupper                        2356 non-null object\n",
      "puppo                         2356 non-null object\n",
      "dtypes: float64(4), int64(3), object(10)\n",
      "memory usage: 313.0+ KB\n"
     ]
    }
   ],
   "source": [
    "twitter_archive_enhanced.info()"
   ]
  },
  {
   "cell_type": "code",
   "execution_count": 615,
   "metadata": {},
   "outputs": [
    {
     "data": {
      "text/plain": [
       "10     2333\n",
       "11        3\n",
       "50        3\n",
       "80        2\n",
       "20        2\n",
       "2         1\n",
       "16        1\n",
       "40        1\n",
       "70        1\n",
       "15        1\n",
       "90        1\n",
       "110       1\n",
       "120       1\n",
       "130       1\n",
       "150       1\n",
       "170       1\n",
       "7         1\n",
       "0         1\n",
       "Name: rating_denominator, dtype: int64"
      ]
     },
     "execution_count": 615,
     "metadata": {},
     "output_type": "execute_result"
    }
   ],
   "source": [
    "twitter_archive_enhanced['rating_denominator'].value_counts()"
   ]
  },
  {
   "cell_type": "code",
   "execution_count": 616,
   "metadata": {},
   "outputs": [
    {
     "data": {
      "text/html": [
       "<div>\n",
       "<style scoped>\n",
       "    .dataframe tbody tr th:only-of-type {\n",
       "        vertical-align: middle;\n",
       "    }\n",
       "\n",
       "    .dataframe tbody tr th {\n",
       "        vertical-align: top;\n",
       "    }\n",
       "\n",
       "    .dataframe thead th {\n",
       "        text-align: right;\n",
       "    }\n",
       "</style>\n",
       "<table border=\"1\" class=\"dataframe\">\n",
       "  <thead>\n",
       "    <tr style=\"text-align: right;\">\n",
       "      <th></th>\n",
       "      <th>tweet_id</th>\n",
       "      <th>jpg_url</th>\n",
       "      <th>img_num</th>\n",
       "      <th>p1</th>\n",
       "      <th>p1_conf</th>\n",
       "      <th>p1_dog</th>\n",
       "      <th>p2</th>\n",
       "      <th>p2_conf</th>\n",
       "      <th>p2_dog</th>\n",
       "      <th>p3</th>\n",
       "      <th>p3_conf</th>\n",
       "      <th>p3_dog</th>\n",
       "    </tr>\n",
       "  </thead>\n",
       "  <tbody>\n",
       "    <tr>\n",
       "      <th>0</th>\n",
       "      <td>666020888022790149</td>\n",
       "      <td>https://pbs.twimg.com/media/CT4udn0WwAA0aMy.jpg</td>\n",
       "      <td>1</td>\n",
       "      <td>Welsh_springer_spaniel</td>\n",
       "      <td>0.465074</td>\n",
       "      <td>True</td>\n",
       "      <td>collie</td>\n",
       "      <td>0.156665</td>\n",
       "      <td>True</td>\n",
       "      <td>Shetland_sheepdog</td>\n",
       "      <td>0.061428</td>\n",
       "      <td>True</td>\n",
       "    </tr>\n",
       "    <tr>\n",
       "      <th>1</th>\n",
       "      <td>666029285002620928</td>\n",
       "      <td>https://pbs.twimg.com/media/CT42GRgUYAA5iDo.jpg</td>\n",
       "      <td>1</td>\n",
       "      <td>redbone</td>\n",
       "      <td>0.506826</td>\n",
       "      <td>True</td>\n",
       "      <td>miniature_pinscher</td>\n",
       "      <td>0.074192</td>\n",
       "      <td>True</td>\n",
       "      <td>Rhodesian_ridgeback</td>\n",
       "      <td>0.072010</td>\n",
       "      <td>True</td>\n",
       "    </tr>\n",
       "    <tr>\n",
       "      <th>2</th>\n",
       "      <td>666033412701032449</td>\n",
       "      <td>https://pbs.twimg.com/media/CT4521TWwAEvMyu.jpg</td>\n",
       "      <td>1</td>\n",
       "      <td>German_shepherd</td>\n",
       "      <td>0.596461</td>\n",
       "      <td>True</td>\n",
       "      <td>malinois</td>\n",
       "      <td>0.138584</td>\n",
       "      <td>True</td>\n",
       "      <td>bloodhound</td>\n",
       "      <td>0.116197</td>\n",
       "      <td>True</td>\n",
       "    </tr>\n",
       "    <tr>\n",
       "      <th>3</th>\n",
       "      <td>666044226329800704</td>\n",
       "      <td>https://pbs.twimg.com/media/CT5Dr8HUEAA-lEu.jpg</td>\n",
       "      <td>1</td>\n",
       "      <td>Rhodesian_ridgeback</td>\n",
       "      <td>0.408143</td>\n",
       "      <td>True</td>\n",
       "      <td>redbone</td>\n",
       "      <td>0.360687</td>\n",
       "      <td>True</td>\n",
       "      <td>miniature_pinscher</td>\n",
       "      <td>0.222752</td>\n",
       "      <td>True</td>\n",
       "    </tr>\n",
       "    <tr>\n",
       "      <th>4</th>\n",
       "      <td>666049248165822465</td>\n",
       "      <td>https://pbs.twimg.com/media/CT5IQmsXIAAKY4A.jpg</td>\n",
       "      <td>1</td>\n",
       "      <td>miniature_pinscher</td>\n",
       "      <td>0.560311</td>\n",
       "      <td>True</td>\n",
       "      <td>Rottweiler</td>\n",
       "      <td>0.243682</td>\n",
       "      <td>True</td>\n",
       "      <td>Doberman</td>\n",
       "      <td>0.154629</td>\n",
       "      <td>True</td>\n",
       "    </tr>\n",
       "  </tbody>\n",
       "</table>\n",
       "</div>"
      ],
      "text/plain": [
       "             tweet_id                                          jpg_url  \\\n",
       "0  666020888022790149  https://pbs.twimg.com/media/CT4udn0WwAA0aMy.jpg   \n",
       "1  666029285002620928  https://pbs.twimg.com/media/CT42GRgUYAA5iDo.jpg   \n",
       "2  666033412701032449  https://pbs.twimg.com/media/CT4521TWwAEvMyu.jpg   \n",
       "3  666044226329800704  https://pbs.twimg.com/media/CT5Dr8HUEAA-lEu.jpg   \n",
       "4  666049248165822465  https://pbs.twimg.com/media/CT5IQmsXIAAKY4A.jpg   \n",
       "\n",
       "   img_num                      p1   p1_conf  p1_dog                  p2  \\\n",
       "0        1  Welsh_springer_spaniel  0.465074    True              collie   \n",
       "1        1                 redbone  0.506826    True  miniature_pinscher   \n",
       "2        1         German_shepherd  0.596461    True            malinois   \n",
       "3        1     Rhodesian_ridgeback  0.408143    True             redbone   \n",
       "4        1      miniature_pinscher  0.560311    True          Rottweiler   \n",
       "\n",
       "    p2_conf  p2_dog                   p3   p3_conf  p3_dog  \n",
       "0  0.156665    True    Shetland_sheepdog  0.061428    True  \n",
       "1  0.074192    True  Rhodesian_ridgeback  0.072010    True  \n",
       "2  0.138584    True           bloodhound  0.116197    True  \n",
       "3  0.360687    True   miniature_pinscher  0.222752    True  \n",
       "4  0.243682    True             Doberman  0.154629    True  "
      ]
     },
     "execution_count": 616,
     "metadata": {},
     "output_type": "execute_result"
    }
   ],
   "source": [
    "images_predictions.head()"
   ]
  },
  {
   "cell_type": "code",
   "execution_count": 617,
   "metadata": {},
   "outputs": [
    {
     "name": "stdout",
     "output_type": "stream",
     "text": [
      "<class 'pandas.core.frame.DataFrame'>\n",
      "RangeIndex: 2075 entries, 0 to 2074\n",
      "Data columns (total 12 columns):\n",
      "tweet_id    2075 non-null int64\n",
      "jpg_url     2075 non-null object\n",
      "img_num     2075 non-null int64\n",
      "p1          2075 non-null object\n",
      "p1_conf     2075 non-null float64\n",
      "p1_dog      2075 non-null bool\n",
      "p2          2075 non-null object\n",
      "p2_conf     2075 non-null float64\n",
      "p2_dog      2075 non-null bool\n",
      "p3          2075 non-null object\n",
      "p3_conf     2075 non-null float64\n",
      "p3_dog      2075 non-null bool\n",
      "dtypes: bool(3), float64(3), int64(2), object(4)\n",
      "memory usage: 152.1+ KB\n"
     ]
    }
   ],
   "source": [
    "images_predictions.info()"
   ]
  },
  {
   "cell_type": "code",
   "execution_count": 618,
   "metadata": {},
   "outputs": [
    {
     "data": {
      "text/html": [
       "<div>\n",
       "<style scoped>\n",
       "    .dataframe tbody tr th:only-of-type {\n",
       "        vertical-align: middle;\n",
       "    }\n",
       "\n",
       "    .dataframe tbody tr th {\n",
       "        vertical-align: top;\n",
       "    }\n",
       "\n",
       "    .dataframe thead th {\n",
       "        text-align: right;\n",
       "    }\n",
       "</style>\n",
       "<table border=\"1\" class=\"dataframe\">\n",
       "  <thead>\n",
       "    <tr style=\"text-align: right;\">\n",
       "      <th></th>\n",
       "      <th>tweet_favorite_count</th>\n",
       "      <th>tweet_id</th>\n",
       "      <th>tweet_retweet_count</th>\n",
       "    </tr>\n",
       "  </thead>\n",
       "  <tbody>\n",
       "    <tr>\n",
       "      <th>0</th>\n",
       "      <td>39467</td>\n",
       "      <td>892420643555336193</td>\n",
       "      <td>8853</td>\n",
       "    </tr>\n",
       "    <tr>\n",
       "      <th>1</th>\n",
       "      <td>33819</td>\n",
       "      <td>892177421306343426</td>\n",
       "      <td>6514</td>\n",
       "    </tr>\n",
       "    <tr>\n",
       "      <th>2</th>\n",
       "      <td>25461</td>\n",
       "      <td>891815181378084864</td>\n",
       "      <td>4328</td>\n",
       "    </tr>\n",
       "    <tr>\n",
       "      <th>3</th>\n",
       "      <td>42908</td>\n",
       "      <td>891689557279858688</td>\n",
       "      <td>8964</td>\n",
       "    </tr>\n",
       "    <tr>\n",
       "      <th>4</th>\n",
       "      <td>41048</td>\n",
       "      <td>891327558926688256</td>\n",
       "      <td>9774</td>\n",
       "    </tr>\n",
       "  </tbody>\n",
       "</table>\n",
       "</div>"
      ],
      "text/plain": [
       "   tweet_favorite_count            tweet_id  tweet_retweet_count\n",
       "0                 39467  892420643555336193                 8853\n",
       "1                 33819  892177421306343426                 6514\n",
       "2                 25461  891815181378084864                 4328\n",
       "3                 42908  891689557279858688                 8964\n",
       "4                 41048  891327558926688256                 9774"
      ]
     },
     "execution_count": 618,
     "metadata": {},
     "output_type": "execute_result"
    }
   ],
   "source": [
    "tweet_json_df.head()"
   ]
  },
  {
   "cell_type": "code",
   "execution_count": 619,
   "metadata": {},
   "outputs": [
    {
     "name": "stdout",
     "output_type": "stream",
     "text": [
      "<class 'pandas.core.frame.DataFrame'>\n",
      "RangeIndex: 2354 entries, 0 to 2353\n",
      "Data columns (total 3 columns):\n",
      "tweet_favorite_count    2354 non-null int64\n",
      "tweet_id                2354 non-null int64\n",
      "tweet_retweet_count     2354 non-null int64\n",
      "dtypes: int64(3)\n",
      "memory usage: 55.2 KB\n"
     ]
    }
   ],
   "source": [
    "tweet_json_df.info()"
   ]
  },
  {
   "cell_type": "code",
   "execution_count": 620,
   "metadata": {},
   "outputs": [
    {
     "data": {
      "text/html": [
       "<div>\n",
       "<style scoped>\n",
       "    .dataframe tbody tr th:only-of-type {\n",
       "        vertical-align: middle;\n",
       "    }\n",
       "\n",
       "    .dataframe tbody tr th {\n",
       "        vertical-align: top;\n",
       "    }\n",
       "\n",
       "    .dataframe thead th {\n",
       "        text-align: right;\n",
       "    }\n",
       "</style>\n",
       "<table border=\"1\" class=\"dataframe\">\n",
       "  <thead>\n",
       "    <tr style=\"text-align: right;\">\n",
       "      <th></th>\n",
       "      <th>tweet_favorite_count</th>\n",
       "      <th>tweet_id</th>\n",
       "      <th>tweet_retweet_count</th>\n",
       "    </tr>\n",
       "  </thead>\n",
       "  <tbody>\n",
       "    <tr>\n",
       "      <th>count</th>\n",
       "      <td>2354.000000</td>\n",
       "      <td>2.354000e+03</td>\n",
       "      <td>2354.000000</td>\n",
       "    </tr>\n",
       "    <tr>\n",
       "      <th>mean</th>\n",
       "      <td>8080.968564</td>\n",
       "      <td>7.426978e+17</td>\n",
       "      <td>3164.797366</td>\n",
       "    </tr>\n",
       "    <tr>\n",
       "      <th>std</th>\n",
       "      <td>11814.771334</td>\n",
       "      <td>6.852812e+16</td>\n",
       "      <td>5284.770364</td>\n",
       "    </tr>\n",
       "    <tr>\n",
       "      <th>min</th>\n",
       "      <td>0.000000</td>\n",
       "      <td>6.660209e+17</td>\n",
       "      <td>0.000000</td>\n",
       "    </tr>\n",
       "    <tr>\n",
       "      <th>25%</th>\n",
       "      <td>1415.000000</td>\n",
       "      <td>6.783975e+17</td>\n",
       "      <td>624.500000</td>\n",
       "    </tr>\n",
       "    <tr>\n",
       "      <th>50%</th>\n",
       "      <td>3603.500000</td>\n",
       "      <td>7.194596e+17</td>\n",
       "      <td>1473.500000</td>\n",
       "    </tr>\n",
       "    <tr>\n",
       "      <th>75%</th>\n",
       "      <td>10122.250000</td>\n",
       "      <td>7.993058e+17</td>\n",
       "      <td>3652.000000</td>\n",
       "    </tr>\n",
       "    <tr>\n",
       "      <th>max</th>\n",
       "      <td>132810.000000</td>\n",
       "      <td>8.924206e+17</td>\n",
       "      <td>79515.000000</td>\n",
       "    </tr>\n",
       "  </tbody>\n",
       "</table>\n",
       "</div>"
      ],
      "text/plain": [
       "       tweet_favorite_count      tweet_id  tweet_retweet_count\n",
       "count           2354.000000  2.354000e+03          2354.000000\n",
       "mean            8080.968564  7.426978e+17          3164.797366\n",
       "std            11814.771334  6.852812e+16          5284.770364\n",
       "min                0.000000  6.660209e+17             0.000000\n",
       "25%             1415.000000  6.783975e+17           624.500000\n",
       "50%             3603.500000  7.194596e+17          1473.500000\n",
       "75%            10122.250000  7.993058e+17          3652.000000\n",
       "max           132810.000000  8.924206e+17         79515.000000"
      ]
     },
     "execution_count": 620,
     "metadata": {},
     "output_type": "execute_result"
    }
   ],
   "source": [
    "tweet_json_df.describe()"
   ]
  },
  {
   "cell_type": "markdown",
   "metadata": {},
   "source": [
    "## Assessing Data summary (some of the upcoming issues were found visually) :"
   ]
  },
  {
   "cell_type": "markdown",
   "metadata": {},
   "source": [
    "### Quality issues :"
   ]
  },
  {
   "cell_type": "markdown",
   "metadata": {},
   "source": [
    "#### 1-only original tweets are required"
   ]
  },
  {
   "cell_type": "markdown",
   "metadata": {},
   "source": [
    "#### 2-expanded_urls column is useless(need to be dropped)"
   ]
  },
  {
   "cell_type": "markdown",
   "metadata": {},
   "source": [
    "#### 3- Many dog names are incorrect-starts with lowerscase letters- "
   ]
  },
  {
   "cell_type": "markdown",
   "metadata": {},
   "source": [
    "#### 4-The rating_numerator column should be of type float ."
   ]
  },
  {
   "cell_type": "markdown",
   "metadata": {},
   "source": [
    "#### 5-timestamp's datatype should be converted to \"datatime\"."
   ]
  },
  {
   "cell_type": "markdown",
   "metadata": {},
   "source": [
    "#### 6-Remove \"_\" in image predictions.(p1, p2, p3 column names)"
   ]
  },
  {
   "cell_type": "markdown",
   "metadata": {},
   "source": [
    "#### 7-convert tweet id's data type into String"
   ]
  },
  {
   "cell_type": "markdown",
   "metadata": {},
   "source": [
    "#### 8-The rating_numerator column decimal values should  be correctly extracted."
   ]
  },
  {
   "cell_type": "markdown",
   "metadata": {},
   "source": [
    "## Tidiness issues :"
   ]
  },
  {
   "cell_type": "markdown",
   "metadata": {},
   "source": [
    "#### 1-merging 3 data frames"
   ]
  },
  {
   "cell_type": "markdown",
   "metadata": {},
   "source": [
    "#### 2-dog's breed needs to be in one column "
   ]
  },
  {
   "cell_type": "markdown",
   "metadata": {},
   "source": [
    "#### 3-tweet text & dog's photo url are included in one column"
   ]
  },
  {
   "cell_type": "markdown",
   "metadata": {},
   "source": [
    "#### 4-dog's life Stage needs to be in one column "
   ]
  },
  {
   "cell_type": "markdown",
   "metadata": {},
   "source": [
    "## Copying Dataframes"
   ]
  },
  {
   "cell_type": "code",
   "execution_count": 621,
   "metadata": {},
   "outputs": [],
   "source": [
    "tweet_archive = twitter_archive_enhanced.copy()\n",
    "images_predictions_copy = images_predictions.copy()\n",
    "tweet_json_copy = tweet_json_df.copy()"
   ]
  },
  {
   "cell_type": "markdown",
   "metadata": {},
   "source": [
    "### 1-\n",
    "### Define: mergine 3 datasets"
   ]
  },
  {
   "cell_type": "code",
   "execution_count": 622,
   "metadata": {},
   "outputs": [
    {
     "name": "stdout",
     "output_type": "stream",
     "text": [
      "<class 'pandas.core.frame.DataFrame'>\n",
      "Int64Index: 2073 entries, 0 to 2072\n",
      "Data columns (total 30 columns):\n",
      "tweet_id                      2073 non-null int64\n",
      "in_reply_to_status_id         23 non-null float64\n",
      "in_reply_to_user_id           23 non-null float64\n",
      "timestamp                     2073 non-null object\n",
      "source                        2073 non-null object\n",
      "text                          2073 non-null object\n",
      "retweeted_status_id           79 non-null float64\n",
      "retweeted_status_user_id      79 non-null float64\n",
      "retweeted_status_timestamp    79 non-null object\n",
      "expanded_urls                 2073 non-null object\n",
      "rating_numerator              2073 non-null int64\n",
      "rating_denominator            2073 non-null int64\n",
      "name                          2073 non-null object\n",
      "doggo                         2073 non-null object\n",
      "floofer                       2073 non-null object\n",
      "pupper                        2073 non-null object\n",
      "puppo                         2073 non-null object\n",
      "jpg_url                       2073 non-null object\n",
      "img_num                       2073 non-null int64\n",
      "p1                            2073 non-null object\n",
      "p1_conf                       2073 non-null float64\n",
      "p1_dog                        2073 non-null bool\n",
      "p2                            2073 non-null object\n",
      "p2_conf                       2073 non-null float64\n",
      "p2_dog                        2073 non-null bool\n",
      "p3                            2073 non-null object\n",
      "p3_conf                       2073 non-null float64\n",
      "p3_dog                        2073 non-null bool\n",
      "tweet_favorite_count          2073 non-null int64\n",
      "tweet_retweet_count           2073 non-null int64\n",
      "dtypes: bool(3), float64(7), int64(6), object(14)\n",
      "memory usage: 459.5+ KB\n",
      "None\n"
     ]
    }
   ],
   "source": [
    "# Code\n",
    "tweet_archive = tweet_archive.merge(images_predictions_copy,on='tweet_id',how='inner')\n",
    "tweet_archive = tweet_archive.merge(tweet_json_copy,on='tweet_id',how='inner')\n",
    "#TEST\n",
    "print(tweet_archive.info())"
   ]
  },
  {
   "cell_type": "markdown",
   "metadata": {},
   "source": [
    "### 2-\n",
    "### Define: deleting retweets , replies and keeping the data of the original tweets only"
   ]
  },
  {
   "cell_type": "code",
   "execution_count": 623,
   "metadata": {},
   "outputs": [
    {
     "name": "stdout",
     "output_type": "stream",
     "text": [
      "<class 'pandas.core.frame.DataFrame'>\n",
      "Int64Index: 1971 entries, 0 to 2072\n",
      "Data columns (total 22 columns):\n",
      "tweet_id                1971 non-null int64\n",
      "timestamp               1971 non-null object\n",
      "source                  1971 non-null object\n",
      "text                    1971 non-null object\n",
      "rating_numerator        1971 non-null int64\n",
      "rating_denominator      1971 non-null int64\n",
      "name                    1971 non-null object\n",
      "doggo                   1971 non-null object\n",
      "floofer                 1971 non-null object\n",
      "pupper                  1971 non-null object\n",
      "puppo                   1971 non-null object\n",
      "p1                      1971 non-null object\n",
      "p1_conf                 1971 non-null float64\n",
      "p1_dog                  1971 non-null bool\n",
      "p2                      1971 non-null object\n",
      "p2_conf                 1971 non-null float64\n",
      "p2_dog                  1971 non-null bool\n",
      "p3                      1971 non-null object\n",
      "p3_conf                 1971 non-null float64\n",
      "p3_dog                  1971 non-null bool\n",
      "tweet_favorite_count    1971 non-null int64\n",
      "tweet_retweet_count     1971 non-null int64\n",
      "dtypes: bool(3), float64(3), int64(5), object(11)\n",
      "memory usage: 313.7+ KB\n",
      "None\n"
     ]
    }
   ],
   "source": [
    "#Code\n",
    "tweet_archive=tweet_archive[tweet_archive['in_reply_to_status_id'].isnull()]\n",
    "tweet_archive=tweet_archive[tweet_archive['retweeted_status_id'].isnull()]\n",
    "tweet_archive.drop(columns=['in_reply_to_status_id','in_reply_to_user_id','retweeted_status_id',\n",
    "                            'retweeted_status_user_id','retweeted_status_timestamp','img_num',\n",
    "                             'expanded_urls','jpg_url'],inplace=True)\n",
    "#Test\n",
    "print(tweet_archive.info())"
   ]
  },
  {
   "cell_type": "markdown",
   "metadata": {},
   "source": [
    "### 3-\n",
    "### Define: converting tweet_id colum data type into datetime"
   ]
  },
  {
   "cell_type": "code",
   "execution_count": 624,
   "metadata": {},
   "outputs": [
    {
     "name": "stdout",
     "output_type": "stream",
     "text": [
      "<class 'pandas.core.frame.DataFrame'>\n",
      "Int64Index: 1971 entries, 0 to 2072\n",
      "Data columns (total 22 columns):\n",
      "tweet_id                1971 non-null object\n",
      "timestamp               1971 non-null object\n",
      "source                  1971 non-null object\n",
      "text                    1971 non-null object\n",
      "rating_numerator        1971 non-null int64\n",
      "rating_denominator      1971 non-null int64\n",
      "name                    1971 non-null object\n",
      "doggo                   1971 non-null object\n",
      "floofer                 1971 non-null object\n",
      "pupper                  1971 non-null object\n",
      "puppo                   1971 non-null object\n",
      "p1                      1971 non-null object\n",
      "p1_conf                 1971 non-null float64\n",
      "p1_dog                  1971 non-null bool\n",
      "p2                      1971 non-null object\n",
      "p2_conf                 1971 non-null float64\n",
      "p2_dog                  1971 non-null bool\n",
      "p3                      1971 non-null object\n",
      "p3_conf                 1971 non-null float64\n",
      "p3_dog                  1971 non-null bool\n",
      "tweet_favorite_count    1971 non-null int64\n",
      "tweet_retweet_count     1971 non-null int64\n",
      "dtypes: bool(3), float64(3), int64(4), object(12)\n",
      "memory usage: 313.7+ KB\n",
      "None\n"
     ]
    }
   ],
   "source": [
    "# code\n",
    "tweet_archive['tweet_id']=tweet_archive['tweet_id'].astype(str)\n",
    "#Test\n",
    "print(tweet_archive.info())"
   ]
  },
  {
   "cell_type": "markdown",
   "metadata": {},
   "source": [
    "### 4-\n",
    "### Define: converting timestamp colum data type into datetime"
   ]
  },
  {
   "cell_type": "code",
   "execution_count": 625,
   "metadata": {},
   "outputs": [
    {
     "name": "stdout",
     "output_type": "stream",
     "text": [
      "<class 'pandas.core.frame.DataFrame'>\n",
      "Int64Index: 1971 entries, 0 to 2072\n",
      "Data columns (total 22 columns):\n",
      "tweet_id                1971 non-null object\n",
      "timestamp               1971 non-null datetime64[ns]\n",
      "source                  1971 non-null object\n",
      "text                    1971 non-null object\n",
      "rating_numerator        1971 non-null int64\n",
      "rating_denominator      1971 non-null int64\n",
      "name                    1971 non-null object\n",
      "doggo                   1971 non-null object\n",
      "floofer                 1971 non-null object\n",
      "pupper                  1971 non-null object\n",
      "puppo                   1971 non-null object\n",
      "p1                      1971 non-null object\n",
      "p1_conf                 1971 non-null float64\n",
      "p1_dog                  1971 non-null bool\n",
      "p2                      1971 non-null object\n",
      "p2_conf                 1971 non-null float64\n",
      "p2_dog                  1971 non-null bool\n",
      "p3                      1971 non-null object\n",
      "p3_conf                 1971 non-null float64\n",
      "p3_dog                  1971 non-null bool\n",
      "tweet_favorite_count    1971 non-null int64\n",
      "tweet_retweet_count     1971 non-null int64\n",
      "dtypes: bool(3), datetime64[ns](1), float64(3), int64(4), object(11)\n",
      "memory usage: 313.7+ KB\n",
      "None\n"
     ]
    }
   ],
   "source": [
    "#code\n",
    "tweet_archive['timestamp'] = pd.to_datetime(tweet_archive['timestamp'])\n",
    "#Test\n",
    "print(tweet_archive.info())"
   ]
  },
  {
   "cell_type": "markdown",
   "metadata": {},
   "source": [
    "### 5-\n",
    "### Define: replacing incorrect names with None"
   ]
  },
  {
   "cell_type": "code",
   "execution_count": 626,
   "metadata": {},
   "outputs": [
    {
     "name": "stdout",
     "output_type": "stream",
     "text": [
      "['Phineas', 'Tilly', 'Archie', 'Darla', 'Franklin', nan, 'Jax', nan, 'Zoey', 'Cassie', 'Koda', 'Bruno', nan, 'Ted', 'Stuart', 'Oliver', 'Jim', 'Zeke', 'Ralphus', 'Gerald', 'Jeffrey', nan, 'Canela', nan, nan, 'Maya', 'Mingus', 'Derek', 'Roscoe', 'Waffles', 'Jimbo', 'Maisey', nan, 'Earl', 'Lola', 'Kevin', nan, 'Yogi', 'Noah', 'Bella', 'Grizzwald', nan, 'Rusty', 'Gus', 'Stanley', 'Alfy', 'Koko', 'Rey', 'Gary', nan, 'Elliot', 'Louis', nan, 'Bella', 'Jesse', nan, 'Romeo', 'Bailey', 'Duddles', 'Jack', 'Steven', 'Beau', 'Snoopy', 'Shadow', 'Emmy', 'Aja', 'Penny', 'Dante', 'Nelly', 'Ginger', 'Benedict', 'Venti', 'Goose', 'Nugget', nan, 'Cash', 'Jed', nan, 'Sebastian', nan, 'Sierra', nan, nan, 'Monkey', nan, 'Harry', 'Kody', 'Lassie', 'Rover', 'Napolean', 'Boomer', nan, 'Cody', 'Zoey', 'Rumble', 'Clifford', 'Dewey', 'Stanley', 'Scout', 'Gizmo', 'Walter', nan, 'Cooper', nan, 'Harold', 'Shikha', nan, 'Lili', 'Jamesy', 'Coco', 'Boomer', 'Sammy', 'Nelly', nan, 'Meatball', 'Paisley', 'Albus', 'Neptune', 'Belle', 'Quinn', 'Zooey', 'Dave', 'Jersey', nan, 'Hobbes', nan, 'Burt', 'Lorenzo', 'Carl', 'Jordy', nan, 'Milky', 'Trooper', nan, nan, nan, nan, 'Sophie', 'Wyatt', 'Rosie', 'Thor', nan, 'Oscar', 'Zeke', 'Callie', 'Cermet', nan, nan, 'Marlee', 'Arya', 'Einstein', nan, nan, 'Alice', nan, 'Rumpole', 'Benny', 'Aspen', 'Jarod', 'Wiggles', 'General', 'Sailor', nan, 'Iggy', 'Snoop', 'Kyle', 'Leo', 'Riley', 'Boomer', nan, 'Noosh', nan, 'Kevin', nan, 'Odin', 'Jerry', 'Georgie', 'Rontu', 'Cannon', 'Furzey', 'Daisy', nan, 'Tuck', 'Barney', 'Vixen', 'Jarvis', nan, nan, 'Mimosa', 'Pickles', 'Brady', 'Luna', 'Charlie', 'Margo', 'Sadie', 'Hank', 'Tycho', 'Charlie', 'Indie', 'Winnie', 'George', 'Bentley', 'Penny', nan, 'Max', 'Dawn', nan, 'Maddie', nan, 'Monty', 'Sojourner', 'Winston', 'Odie', 'Arlo', 'Walter', 'Stanley', 'Daisy', nan, 'Waffles', 'Vincent', 'Lucy', 'Clark', 'Mookie', 'Meera', 'Oliver', 'Ava', 'Lucy', nan, 'Eli', 'Ash', 'Lola', nan, nan, 'Tucker', 'Tobi', nan, 'Chester', 'Wilson', 'Sunshine', 'Lipton', 'Bentley', 'Charlie', 'Bronte', 'Poppy', 'Gidget', 'Rhino', 'Willow', 'Orion', 'Eevee', 'Charlie', 'Smiley', 'Miguel', 'Emanuel', 'Kuyu', 'Daisy', nan, 'Dutch', 'Pete', nan, 'Scooter', 'Tucker', 'Reggie', 'Lilly', 'Samson', 'Mia', 'Leo', nan, 'Astrid', 'Malcolm', 'Dexter', 'Alfie', 'Fiona', nan, 'Mutt', 'Bear', 'Doobert', 'Beebop', 'Alexander', 'Sailer', 'Brutus', 'Kona', 'Boots', 'Tucker', 'Ralphie', 'Charlie', 'Loki', 'Cupid', 'Pawnd', 'Pilot', nan, nan, 'Ike', 'Mo', 'Toby', nan, 'Sweet', 'Pablo', 'Scooter', 'Wilson', nan, 'Nala', 'Cash', 'Winston', 'Crawford', 'Wyatt', 'Albus', nan, 'Hobbes', nan, 'Paisley', 'Gabe', nan, 'Jimison', 'Duchess', 'Harlso', 'Sundance', 'Luca', nan, 'Flash', 'Sunny', nan, nan, nan, 'Oliver', nan, 'Howie', 'Jazzy', 'Anna', 'Finn', 'Sunny', 'Bo', 'Wafer', 'Bear', 'Tom', 'Florence', 'Autumn', 'Buddy', 'Dido', 'Eugene', 'Ken', 'Strudel', 'Tebow', nan, 'Chloe', 'Timber', 'Binky', 'Moose', 'Dudley', 'Comet', 'Jack', nan, 'Akumi', 'Titan', nan, 'Cooper', 'Olivia', 'Alf', 'Oshie', 'Chubbs', 'Gary', 'Sky', 'Atlas', nan, nan, 'Eleanor', 'Layla', nan, nan, 'Toby', 'Rocky', 'Baron', 'Tyr', 'Bauer', 'Swagger', 'Brandi', nan, 'Mary', 'Moe', 'Ted', 'Halo', 'Augie', 'Craig', 'Sam', 'Hunter', 'Pavlov', 'Phil', 'Gus', nan, nan, 'Kyro', 'Wallace', 'Ito', nan, 'Koda', nan, 'Cooper', 'Ollie', 'Stephan', 'Lennon', nan, 'Waffles', nan, 'Major', 'Duke', 'Zeke', 'Sansa', 'Shooter', 'Django', 'Bo', 'Diogi', nan, 'Sonny', 'Winston', 'Marley', 'Winnie', 'Severus', 'Loki', 'Ronnie', 'Wallace', nan, 'Milo', 'Bones', 'Mauve', 'Chef', nan, 'Doc', 'Peaches', nan, 'Sobe', 'Longfellow', 'Jeffrey', 'Mister', 'Iroh', 'Shadow', 'Cooper', nan, 'Cassie', 'Pancake', 'Tyr', 'Romeo', nan, 'Snicku', 'Ruby', nan, 'Yogi', 'Daisy', nan, 'Brody', 'Bailey', 'Mack', 'Nimbus', 'Laika', 'Maximus', 'Clark', 'Dobby', 'Fiona', 'Moreton', 'Dave', nan, 'Tucker', 'Juno', 'Maude', 'Lily', 'Newt', 'Benji', 'Nida', nan, 'Robin', nan, 'Bailey', 'Monster', 'BeBe', 'Remus', nan, 'Levi', 'Mabel', 'Misty', 'Betty', 'Mosby', 'Duke', 'Maggie', 'Bruce', 'Happy', 'Eli', 'Brownie', 'Rizzy', 'Stella', 'Bo', 'Lucy', 'Butter', 'Dexter', nan, 'Leo', nan, 'Frank', 'Tonks', 'Moose', 'Lincoln', 'Rory', 'Logan', nan, 'Dale', 'Rizzo', 'Mattie', 'Lucy', 'Rusty', 'Pinot', 'Dallas', 'Doc', 'Hero', 'Rusty', 'Frankie', 'Stormy', 'Riley', 'Mairi', 'Loomis', 'Finn', 'Godi', 'Dave', 'Earl', 'Cali', 'Deacon', 'Penny', 'Timmy', 'Sampson', 'Chipson', nan, nan, 'Oakley', nan, nan, 'Dash', 'Koda', 'Hercules', nan, 'Bear', nan, 'Scout', nan, 'Reggie', nan, 'Jay', 'Mya', 'Strider', 'Penny', nan, 'Nala', 'Stanley', nan, 'Sophie', 'Wesley', nan, 'Derek', 'Jeffrey', 'Solomon', 'Huck', nan, 'O', 'Sampson', nan, 'Blue', 'Anakin', nan, 'Finley', 'Tucker', 'Finley', 'Sprinkles', nan, 'Winnie', 'Heinrich', 'Loki', 'Shakespeare', 'Chelsea', 'Bungalo', 'Chip', 'Grey', nan, 'Roosevelt', nan, 'Willem', nan, 'Jack', 'Finn', 'Penny', 'Davey', 'Dakota', 'Fizz', 'Dixie', 'Charlie', nan, 'Winston', 'Sebastian', nan, 'Al', 'Jackson', 'Carbon', 'Klein', 'Titan', 'DonDon', 'Kirby', 'Jesse', 'Lou', 'Oakley', 'Chevy', 'Gerald', 'Tito', 'Philbert', 'Louie', nan, 'Rupert', 'Rufus', 'Brudge', 'Shadoe', 'Oscar', 'Juno', 'Angel', 'Brat', 'Tove', nan, 'Louie', 'Gromit', 'Aubie', 'Kota', 'Alfie', 'Clark', 'Belle', 'Leela', 'Glenn', 'Buddy', 'Scout', nan, 'Shelby', nan, nan, 'Sephie', 'Bruce', 'Bonaparte', 'Albert', 'Bo', 'Wishes', 'Rose', 'Theo', 'Atlas', 'Rocco', 'Fido', 'Sadie', nan, 'Kirby', 'Maggie', 'Emma', 'Oakley', 'Luna', 'Toby', 'Spencer', 'Lilli', nan, 'Boston', 'Brandonald', nan, 'Odie', 'Corey', nan, 'Leonard', 'Beckham', 'Cooper', nan, nan, nan, 'Devón', 'Oliver', 'Jax', 'Gert', nan, nan, nan, nan, nan, nan, 'Watson', 'Winnie', 'Keith', 'Milo', 'Dex', nan, 'Charlie', nan, nan, 'Scout', 'Hank', 'Ace', 'Tayzie', 'Grizzie', nan, nan, nan, nan, 'Brody', 'Ruby', 'Tucker', 'Toby', nan, 'Max', nan, 'Gilbert', nan, 'Cooper', 'Milo', 'Meyer', 'Malcolm', 'Arnie', 'Zoe', nan, 'Stewie', 'Calvin', 'Lilah', 'Spanky', nan, 'Jameson', 'Beau', 'Jax', 'Piper', 'Bo', 'Atticus', 'Lucy', 'Finn', nan, 'George', 'Blu', 'Winston', 'Dietrich', nan, 'Divine', nan, 'Tripp', nan, nan, 'Cora', nan, 'Duke', nan, nan, nan, nan, 'Huxley', nan, 'Bookstore', nan, nan, nan, 'Atticus', 'Clark', nan, nan, nan, 'Abby', 'Shiloh', nan, 'Gustav', 'Arlen', 'Gus', 'Percy', 'Lenox', nan, 'Sugar', 'Oliver', 'Abby', 'Indie', 'Harvey', 'Blanket', nan, 'Geno', nan, 'Stark', 'Harold', 'Bentley', 'Beya', 'Kilo', nan, 'Kayla', 'Maxaroni', nan, 'Bell', 'Phil', 'Doug', 'Edmund', nan, 'Aqua', 'Tucker', 'Theodore', nan, 'Leo', nan, 'Chip', 'Baloo', nan, nan, 'Chase', nan, 'Nollie', 'Rorie', 'Simba', 'Benji', nan, 'Kyle', nan, 'Charles', nan, 'Bayley', nan, nan, 'Axel', 'Storkson', 'Remy', 'Bella', nan, nan, 'Lily', nan, 'Chadrick', 'Rory', nan, nan, 'Maxaroni', nan, 'Dakota', nan, 'Kellogg', 'Buckley', 'Jax', nan, 'Livvie', 'Terry', 'Moose', nan, 'Hermione', nan, 'Ralpher', 'Aldrick', nan, 'Kyle', 'Larry', 'Solomon', nan, nan, 'Rooney', 'Crystal', 'Ziva', 'Charles', 'Ollie', 'Stefan', 'Pupcasso', nan, 'Puff', nan, 'Flurpson', 'Coleman', 'Wallace', 'Enchilada', 'Raymond', nan, 'Rueben', 'Cilantro', nan, nan, nan, nan, 'Karll', 'Sprout', 'Blitz', 'Bloop', nan, 'Colby', 'Lillie', 'Lola', 'Fred', nan, 'Ashleigh', 'Kreggory', 'Sarge', 'Luther', 'Sugar', 'Reginald', 'Ivar', 'Jangle', nan, 'Schnitzel', 'Panda', 'Oliver', 'Archie', 'Berkeley', nan, 'Ralphé', 'Derek', 'Charleson', 'Neptune', nan, 'Clyde', 'Harnold', 'Sid', 'Lucy', 'Pippa', 'Sadie', 'Otis', nan, 'Carper', nan, 'Bowie', nan, 'Alexanderson', 'Suki', 'Barclay', nan, nan, 'Ebby', 'Flávio', 'Smokey', 'Link', 'Jennifur', 'Bluebert', 'Stephanus', nan, 'Bubbles', nan, 'Toby', 'Zeus', 'Bertson', 'Oscar', 'Nico', 'Michelangelope', 'Siba', 'Calbert', 'Curtis', 'Benedict', nan, 'Travis', 'Thumas', nan, nan, 'Kanu', nan, 'Piper', nan, 'Lance', 'Opie', 'Stubert', nan, 'Sunny', 'Kane', nan, 'Steven', 'Olive', 'Chester', 'Winston', 'Roosevelt', nan, nan, 'Gary', nan, nan, 'Chuckles', 'Milo', 'Staniel', 'Sora', nan, 'Beemo', 'Gunner', nan, nan, 'Lacy', 'Tater', nan, 'Watson', nan, nan, 'Olaf', 'Cecil', 'Vince', 'Karma', 'Billy', 'Walker', 'Penny', nan, 'Rodney', 'Klevin', nan, 'Malikai', 'Mister', 'Coco', 'Smokey', 'Bear', 'Bobble', 'Oliver', 'River', 'Jebberson', nan, 'Cooper', 'Remington', nan, 'Farfle', 'Rufus', 'Sadie', nan, 'Jiminus', 'Harper', 'Keurig', nan, 'Clarkus', nan, 'Finnegus', 'Cassie', 'Cupcake', 'Kathmandu', 'Tucker', 'Ellie', 'Elliot', 'Katie', 'Shadow', nan, 'Oliver', nan, 'Koda', nan, nan, 'Kara', 'Dexter', 'Adele', 'Lucy', 'Max', nan, 'Zara', 'Cooper', 'Ambrose', 'Jimothy', 'Bode', 'Terrenth', 'Reese', nan, nan, 'Chesterson', nan, nan, 'Lucia', 'Bisquick', 'Ralphson', 'Stanley', nan, nan, nan, 'Bella', 'Scooter', nan, 'Charlie', 'Socks', nan, nan, nan, 'Chip', 'Lucy', 'Rambo', 'Sansa', nan, nan, nan, nan, 'Fiji', 'Rilo', 'Bilbo', 'Coopson', 'Yoda', 'Millie', nan, 'Chet', nan, 'Crouton', 'Daniel', nan, 'Vincent', 'Kaia', 'Murphy', 'Dotsy', nan, nan, 'Eazy', 'Coops', 'Thumas', 'Cooper', 'Nala', nan, 'Fillup', 'Dave', 'Archie', nan, nan, 'Miley', 'Calbert', nan, 'Charl', 'Reagan', nan, nan, 'Oliver', 'CeCe', nan, 'Cuddles', 'Rusty', nan, 'Claude', 'Jessiga', 'Maximus', 'Franklin', 'Beau', 'Lily', nan, 'Doug', 'Cassie', 'Carter', nan, nan, 'Ole', 'Blipson', nan, 'Bentley', nan, 'Charlie', 'Oakley', 'Rosie', nan, nan, 'Misty', 'Reptar', 'Trevith', nan, 'Berb', nan, 'Wyatt', 'Calvin', nan, 'Bob', 'Colin', nan, 'Lorenzo', nan, 'Brian', 'Archie', 'Phil', 'Oliviér', 'Grady', nan, 'Lola', 'Chester', 'Kobe', nan, 'Freddery', nan, nan, 'Phil', 'Lincoln', 'Sadie', nan, 'Bodie', 'Dunkin', nan, 'Milo', nan, 'Wally', nan, 'Tupawc', nan, nan, 'Chester', 'Amber', 'Cody', 'Herschel', nan, 'Edgar', 'Kingsley', 'Brockly', nan, 'Richie', nan, 'Leo', 'Bailey', nan, 'Molly', nan, nan, nan, nan, 'Buddy', 'Peaches', 'Vinscent', 'Cedrick', 'Hazel', 'Lolo', 'Eriq', 'Phred', nan, 'Maxwell', 'Geoff', nan, nan, 'Covach', nan, 'Gizmo', 'Durg', 'Fynn', 'Luca', 'Ricky', 'Lucy', nan, nan, 'Carl', nan, 'Chipson', 'Herald', 'Lucky', nan, 'Trip', nan, 'Clarence', nan, 'Hamrick', 'Brad', nan, 'Pubert', 'Frönq', nan, 'Louis', 'Derby', 'Lizzie', nan, 'Kilo', 'Louis', nan, 'Trooper', 'Blakely', 'Opal', 'Marq', nan, 'Curtis', 'Kramer', 'Tyrone', nan, 'Gordon', 'Samson', 'Baxter', nan, nan, 'Jackson', nan, nan, 'Mona', 'Olivia', 'Horace', 'Crimson', 'Birf', nan, 'Flávio', nan, nan, 'Hammond', 'Lorelei', nan, 'Olive', 'Marty', 'Brooks', 'Otis', nan, nan, nan, 'Rocky', nan, 'Petrick', 'Hubertson', 'Alfie', 'Gerbald', 'Jerry', 'Oreo', 'Bruiser', nan, 'Perry', nan, 'Theodore', nan, 'Bobby', 'Pippa', 'Jeph', 'Obi', nan, nan, 'Tino', nan, 'Kulet', nan, 'Lupe', 'Sadie', 'Tiger', 'Jiminy', nan, nan, 'Buddy', 'Sebastian', 'Griffin', 'Banjo', nan, nan, 'Jack', nan, 'Brandy', 'Larry', nan, nan, 'Lulu', 'Darrel', nan, 'Taco', nan, 'Joey', nan, nan, 'Patrick', 'Kreg', 'Brody', 'Todo', 'Jax', 'Samson', 'Tess', nan, 'Ulysses', nan, 'Jimothy', 'Charlie', 'Bo', nan, 'Toffee', nan, 'Apollo', 'Carly', 'Asher', 'Glacier', 'Chuck', nan, 'Sarge', 'Panda', 'Champ', nan, 'Aspen', nan, 'Ozzie', 'Alice', 'Sadie', 'Griswold', 'Cheesy', 'Ellie', nan, 'Moofasa', 'Brody', 'Penny', 'Percy', nan, 'Hector', nan, 'CeCe', 'Toby', nan, nan, 'Goliath', 'Kawhi', 'Reggie', 'Ozzy', nan, nan, 'Emmie', 'Sammy', 'Penelope', nan, 'Bruce', 'Willie', nan, 'Rinna', nan, 'Hunter', 'Mike', nan, nan, 'William', 'Dwight', 'Evy', 'Hurley', 'Rubio', nan, 'Louis', nan, 'Chompsky', nan, nan, 'Lola', nan, 'Linda', 'Tug', 'Mia', 'Wilson', 'Dash', 'Tango', nan, 'Grizz', nan, 'Crystal', 'Jerome', nan, nan, 'Bella', 'Crumpet', nan, 'Rosie', nan, 'Jessifer', 'Reese', nan, nan, nan, 'Ralph', 'Sadie', nan, nan, nan, nan, 'Sandy', nan, nan, nan, 'Axel', nan, 'Humphrey', 'Derek', 'Tassy', 'Juckson', nan, 'Chuq', nan, 'Cooper', nan, 'Tyrus', 'Karl', nan, nan, nan, nan, 'Ash', nan, nan, 'Penny', nan, nan, nan, nan, 'Godzilla', 'Bubbles', 'Vinnie', nan, nan, 'Griffin', nan, nan, 'Duke', nan, 'Winston', 'Kenneth', 'Herm', nan, 'Bert', 'Striker', nan, nan, nan, 'Donny', nan, nan, nan, 'Pepper', nan, nan, 'Bernie', 'Buddah', nan, 'Lenny', nan, nan, 'Ellie', 'Sammy', nan, nan, 'Reggie', nan, nan, nan, nan, 'Daisy', nan, nan, 'Arnold', nan, nan, nan, 'Coops', nan, 'Steven', 'Zuzu', 'Oliver', nan, nan, 'Moe', 'Mollie', 'Laela', nan, 'Tedders', nan, 'Maggie', nan, 'Superpup', nan, nan, nan, 'Sophie', nan, 'Rufio', 'Patrick', 'Jeb', 'Rodman', nan, nan, nan, nan, 'Louis', nan, 'Bailey', 'Ava', 'Jonah', 'Lenny', 'Gary', 'Chesney', 'Lennon', 'Kenny', nan, 'Bob', 'Henry', 'Gus', 'Bobbay', nan, 'Mitch', 'Earl', 'Stanley', 'Lucy', nan, nan, 'Kaiya', 'Daisy', nan, 'Acro', 'Aiden', nan, nan, 'Obie', nan, nan, nan, nan, nan, 'Riley', 'Raymond', 'Dot', nan, 'Pickles', nan, 'Larry', 'George', 'Shnuggles', 'Kendall', 'Albert', nan, 'Jeffri', 'Sandy', nan, nan, nan, 'Steve', 'Koda', nan, 'Bella', 'Gerald', nan, 'Django', 'Frankie', nan, 'Eve', 'Mac', nan, 'Dexter', 'Fletcher', 'Kenzie', 'Pumpkin', 'Schnozz', nan, nan, 'Chuckles', 'Chet', 'Gustaf', 'Terry', 'Jimison', 'Cheryl', nan, 'Oscar', 'Ed', 'Jerry', 'Leonidas', nan, 'Norman', 'Caryl', nan, 'Scott', 'Taz', nan, 'Darby', nan, 'Jackie', nan, 'Jazz', 'Buddy', 'Franq', 'Pippin', nan, 'Kreg', nan, 'Rolf', nan, 'Snickers', 'Ridley', nan, 'Cal', 'Opal', 'Bradley', 'Bubba', nan, nan, 'Tuco', 'Patch', 'Gizmo', 'Lola', 'Mojo', 'Batdog', 'Brad', 'Mia', 'Dylan', nan, nan, nan, 'Mark', nan, nan, 'Oscar', nan, 'Marley', nan, 'JD', 'Baxter', 'Reginald', nan, 'Jax', 'Alejandro', 'Scruffers', 'Hammond', 'Charlie', 'Pip', 'Julius', 'Malcolm', 'Penelope', nan, 'Tanner', nan, 'Lou', 'Lola', 'Sparky', nan, 'Herm', nan, 'Anthony', 'Holly', nan, nan, nan, nan, 'Clarence', nan, 'Phred', 'Toby', nan, nan, 'Colby', nan, 'Jett', 'Amy', nan, 'Remington', nan, 'Sage', 'Maggie', 'Andy', 'Mason', nan, 'Trigger', 'Antony', nan, 'Creg', nan, nan, 'Traviss', nan, 'Vincent', 'Gin', 'Jerry', 'Jeffrie', nan, 'Danny', 'Ester', 'Pluto', 'Bloo', 'Phineas', nan, 'Edd', nan, nan, nan, 'Paull', 'Koda', nan, 'Hank', 'Sam', 'Willy', nan, 'Herb', 'Damon', nan, 'Scooter', 'Peanut', 'Nigel', 'Larry', 'Daisy', nan, 'Butters', nan, nan, 'Sandra', 'Wally', nan, 'Fabio', 'Winston', 'Randall', 'Liam', 'Tommy', 'Ben', nan, nan, 'Raphael', 'Zoey', nan, 'Julio', 'Andru', nan, nan, 'Chester', 'Clarence', 'Kloey', 'Louie', 'Shawwn', nan, 'Penny', nan, 'Skye', nan, 'Linda', 'Keith', 'Kollin', nan, 'Ronduh', 'Billl', 'Oliviér', 'Chip', nan, 'Saydee', 'Dug', 'Sully', 'Kirk', nan, 'Ralf', 'Clarq', 'Jaspers', 'Samsom', nan, nan, 'Tucker', 'Terrance', nan, 'Harrison', 'Bernie', nan, 'Ruby', nan, 'Chaz', 'Jeremy', 'Jaycob', nan, 'Herald', 'Lambeau', 'Ruffles', 'Amélie', 'Bobb', 'Banditt', nan, 'Kevon', 'Winifred', nan, nan, 'Hanz', nan, 'Churlie', 'Zeek', 'Timofy', 'Maks', 'Jomathan', 'Kallie', nan, 'Marvin', nan, nan, 'Spark', 'Gòrdón', nan, 'Jo', nan, 'DayZ', nan, nan, nan, 'Rusty', 'Sophie', nan, 'Jareld', 'Bisquick', 'Torque', nan, nan, 'Ron', 'Skittles', nan, nan, nan, 'Alfie', nan, 'Jiminy', 'Otis', nan, 'Cleopatricia', 'Erik', 'Stu', 'Tedrick', nan, 'Shaggy', nan, nan, 'Filup', nan, nan, nan, nan, 'Calvin', 'Olive', nan, nan, 'George', 'Kial', nan, 'Frank', 'Naphaniel', nan, 'Dook', nan, 'Hall', 'Philippe', nan, nan, 'Reese', 'Cupcake', nan, nan, nan, 'Biden', 'Fwed', nan, 'Genevieve', 'Joshwa', nan, nan, 'Timison', nan, nan, 'Clarence', 'Kenneth', 'Churlie', 'Bradlay', 'Pipsy', nan, 'Gabe', 'Clybe', 'Dave', nan, 'Keet', nan, 'Klevin', 'Carll', nan, nan, nan, nan, 'Jeph', 'Jockson', nan, nan, 'Josep', 'Lugan', nan, 'Christoper', nan, 'Jimothy', 'Kreggory', 'Scout', nan, nan, nan, nan, nan, 'Walter', nan, nan, nan, nan, nan, nan, nan, nan, nan, nan, nan, nan, nan, nan, nan, nan, nan, nan, nan, nan, nan, nan, nan, nan, nan, nan, nan, nan, nan, nan]\n"
     ]
    }
   ],
   "source": [
    "# code\n",
    "def name_detection(row) :\n",
    "    if row['name'][0].islower() == True :\n",
    "        return 'None'\n",
    "    else :\n",
    "        return row['name']\n",
    "tweet_archive['name'] = tweet_archive.apply(name_detection,axis=1)\n",
    "tweet_archive.replace('None',np.nan,inplace=True)\n",
    "#Test\n",
    "print(list(tweet_archive['name']))\n"
   ]
  },
  {
   "cell_type": "markdown",
   "metadata": {},
   "source": [
    "### 6-\n",
    "### Define: Remove \"_\" in image predictions.(p1, p2, p3 column names)"
   ]
  },
  {
   "cell_type": "code",
   "execution_count": 627,
   "metadata": {},
   "outputs": [
    {
     "name": "stdout",
     "output_type": "stream",
     "text": [
      "<class 'pandas.core.frame.DataFrame'>\n",
      "Int64Index: 1971 entries, 0 to 2072\n",
      "Data columns (total 22 columns):\n",
      "tweet_id                1971 non-null object\n",
      "timestamp               1971 non-null datetime64[ns]\n",
      "source                  1971 non-null object\n",
      "text                    1971 non-null object\n",
      "rating_numerator        1971 non-null int64\n",
      "rating_denominator      1971 non-null int64\n",
      "name                    1349 non-null object\n",
      "doggo                   73 non-null object\n",
      "floofer                 8 non-null object\n",
      "pupper                  209 non-null object\n",
      "puppo                   23 non-null object\n",
      "p1                      1971 non-null object\n",
      "p1_conf                 1971 non-null float64\n",
      "p1_dog                  1971 non-null bool\n",
      "p2                      1971 non-null object\n",
      "p2_conf                 1971 non-null float64\n",
      "p2_dog                  1971 non-null bool\n",
      "p3                      1971 non-null object\n",
      "p3_conf                 1971 non-null float64\n",
      "p3_dog                  1971 non-null bool\n",
      "tweet_favorite_count    1971 non-null int64\n",
      "tweet_retweet_count     1971 non-null int64\n",
      "dtypes: bool(3), datetime64[ns](1), float64(3), int64(4), object(11)\n",
      "memory usage: 313.7+ KB\n"
     ]
    }
   ],
   "source": [
    "# code\n",
    "tweet_archive['p1'] = tweet_archive['p1'].str.replace('_',' ')\n",
    "tweet_archive['p2'] = tweet_archive['p2'].str.replace('_',' ')\n",
    "tweet_archive['p3'] = tweet_archive['p3'].str.replace('_',' ')\n",
    "#Test\n",
    "tweet_archive.info()\n"
   ]
  },
  {
   "cell_type": "markdown",
   "metadata": {},
   "source": [
    "### 7-\n",
    "### Define:identifying dog's breed in one column & dropping unuseful columns"
   ]
  },
  {
   "cell_type": "code",
   "execution_count": 628,
   "metadata": {},
   "outputs": [
    {
     "name": "stdout",
     "output_type": "stream",
     "text": [
      "<class 'pandas.core.frame.DataFrame'>\n",
      "Int64Index: 1971 entries, 0 to 2072\n",
      "Data columns (total 14 columns):\n",
      "tweet_id                1971 non-null object\n",
      "timestamp               1971 non-null datetime64[ns]\n",
      "source                  1971 non-null object\n",
      "text                    1971 non-null object\n",
      "rating_numerator        1971 non-null int64\n",
      "rating_denominator      1971 non-null int64\n",
      "name                    1349 non-null object\n",
      "doggo                   73 non-null object\n",
      "floofer                 8 non-null object\n",
      "pupper                  209 non-null object\n",
      "puppo                   23 non-null object\n",
      "tweet_favorite_count    1971 non-null int64\n",
      "tweet_retweet_count     1971 non-null int64\n",
      "dog_breed               1666 non-null object\n",
      "dtypes: datetime64[ns](1), int64(4), object(9)\n",
      "memory usage: 231.0+ KB\n"
     ]
    }
   ],
   "source": [
    "def dog_breed(row) :\n",
    "    if row['p1_dog'] :\n",
    "        return row['p1']\n",
    "    elif row['p2_dog'] :\n",
    "        return row['p2']\n",
    "    elif row['p3_dog'] :\n",
    "        return row['p3']\n",
    "    else :\n",
    "         return np.nan\n",
    "\n",
    "tweet_archive['dog_breed'] = tweet_archive.apply(dog_breed,axis=1)\n",
    "tweet_archive.drop(columns=['p1_dog','p1','p2_dog','p2','p3_dog','p3','p1_conf','p2_conf','p3_conf'],inplace=True)\n",
    "#Test \n",
    "tweet_archive.head()\n",
    "tweet_archive.info()"
   ]
  },
  {
   "cell_type": "markdown",
   "metadata": {},
   "source": [
    "### 8-\n",
    "### Define: splitting tweet's text & posted image url into two columns"
   ]
  },
  {
   "cell_type": "code",
   "execution_count": 629,
   "metadata": {},
   "outputs": [
    {
     "name": "stdout",
     "output_type": "stream",
     "text": [
      "             tweet_id           timestamp  \\\n",
      "0  892420643555336193 2017-08-01 16:23:56   \n",
      "1  892177421306343426 2017-08-01 00:17:27   \n",
      "2  891815181378084864 2017-07-31 00:18:03   \n",
      "3  891689557279858688 2017-07-30 15:58:51   \n",
      "4  891327558926688256 2017-07-29 16:00:24   \n",
      "\n",
      "                                              source  \\\n",
      "0  <a href=\"http://twitter.com/download/iphone\" r...   \n",
      "1  <a href=\"http://twitter.com/download/iphone\" r...   \n",
      "2  <a href=\"http://twitter.com/download/iphone\" r...   \n",
      "3  <a href=\"http://twitter.com/download/iphone\" r...   \n",
      "4  <a href=\"http://twitter.com/download/iphone\" r...   \n",
      "\n",
      "                                                text  rating_numerator  \\\n",
      "0  This is Phineas. He's a mystical boy. Only eve...                13   \n",
      "1  This is Tilly. She's just checking pup on you....                13   \n",
      "2  This is Archie. He is a rare Norwegian Pouncin...                12   \n",
      "3  This is Darla. She commenced a snooze mid meal...                13   \n",
      "4  This is Franklin. He would like you to stop ca...                12   \n",
      "\n",
      "   rating_denominator      name doggo floofer pupper puppo  \\\n",
      "0                  10   Phineas   NaN     NaN    NaN   NaN   \n",
      "1                  10     Tilly   NaN     NaN    NaN   NaN   \n",
      "2                  10    Archie   NaN     NaN    NaN   NaN   \n",
      "3                  10     Darla   NaN     NaN    NaN   NaN   \n",
      "4                  10  Franklin   NaN     NaN    NaN   NaN   \n",
      "\n",
      "   tweet_favorite_count  tweet_retweet_count           dog_breed  \\\n",
      "0                 39467                 8853                 NaN   \n",
      "1                 33819                 6514           Chihuahua   \n",
      "2                 25461                 4328           Chihuahua   \n",
      "3                 42908                 8964  Labrador retriever   \n",
      "4                 41048                 9774              basset   \n",
      "\n",
      "        Posted Image's URL  \n",
      "0  https://t.co/MgUWQ76dJU  \n",
      "1  https://t.co/0Xxu71qeIV  \n",
      "2  https://t.co/wUnZnhtVJB  \n",
      "3  https://t.co/tD36da7qLQ  \n",
      "4  https://t.co/AtUZn91f7f  \n"
     ]
    }
   ],
   "source": [
    "#Code\n",
    "tweet_archive[\"Posted Image's URL\"]=tweet_archive['text'].str.extract(r'(https?://\\S+)')\n",
    "tweet_archive['text'] = tweet_archive['text'].str.split('https',expand=True)[0]\n",
    "#Test\n",
    "print(tweet_archive.head())"
   ]
  },
  {
   "cell_type": "markdown",
   "metadata": {},
   "source": [
    "##### print(tweet_archive.info())"
   ]
  },
  {
   "cell_type": "markdown",
   "metadata": {},
   "source": [
    "### 9-\n",
    "### Define : Creating new column for life stage of dog by melting the 'doggo', 'floofer', 'pupper' and 'puppo' columns into one column life_stage."
   ]
  },
  {
   "cell_type": "code",
   "execution_count": 630,
   "metadata": {},
   "outputs": [
    {
     "name": "stdout",
     "output_type": "stream",
     "text": [
      "<class 'pandas.core.frame.DataFrame'>\n",
      "RangeIndex: 1971 entries, 0 to 1970\n",
      "Data columns (total 12 columns):\n",
      "tweet_id                1971 non-null object\n",
      "timestamp               1971 non-null datetime64[ns]\n",
      "source                  1971 non-null object\n",
      "text                    1971 non-null object\n",
      "rating_numerator        1971 non-null int64\n",
      "rating_denominator      1971 non-null int64\n",
      "name                    1349 non-null object\n",
      "tweet_favorite_count    1971 non-null int64\n",
      "tweet_retweet_count     1971 non-null int64\n",
      "dog_breed               1666 non-null object\n",
      "Posted Image's URL      1971 non-null object\n",
      "dog_stage               303 non-null object\n",
      "dtypes: datetime64[ns](1), int64(4), object(7)\n",
      "memory usage: 184.9+ KB\n"
     ]
    },
    {
     "data": {
      "text/plain": [
       "pupper           201\n",
       "doggo             63\n",
       "puppo             22\n",
       "doggo,pupper       8\n",
       "floofer            7\n",
       "doggo,floofer      1\n",
       "doggo,puppo        1\n",
       "Name: dog_stage, dtype: int64"
      ]
     },
     "execution_count": 630,
     "metadata": {},
     "output_type": "execute_result"
    }
   ],
   "source": [
    "#Code\n",
    "melt_coumns = ['doggo', 'floofer', 'pupper', 'puppo']\n",
    "stay_columns = ['tweet_id' ,'timestamp'  ,'source' ,'text','rating_numerator','rating_denominator' ,'name' ,'tweet_favorite_count','tweet_retweet_count' ,'dog_breed',\"Posted Image's URL\" ]\n",
    "tweet_archive['dog_stage']=tweet_archive[melt_coumns].stack().groupby(level=0).agg(','.join)\n",
    "tweet_archive = pd.melt(tweet_archive,id_vars=stay_columns, value_vars = 'dog_stage', var_name = 'stages', value_name = 'dog_stage')\n",
    "tweet_archive = tweet_archive.drop('stages', 1)\n",
    "#Test  \n",
    "tweet_archive.info()\n",
    "tweet_archive['dog_stage'].value_counts()\n"
   ]
  },
  {
   "cell_type": "markdown",
   "metadata": {},
   "source": [
    "### 10-\n",
    "### Define : Extracting the decimal values of rating_numerator out of the original tweet"
   ]
  },
  {
   "cell_type": "code",
   "execution_count": 631,
   "metadata": {},
   "outputs": [
    {
     "name": "stdout",
     "output_type": "stream",
     "text": [
      "<class 'pandas.core.frame.DataFrame'>\n",
      "RangeIndex: 1971 entries, 0 to 1970\n",
      "Data columns (total 12 columns):\n",
      "tweet_id                1971 non-null object\n",
      "timestamp               1971 non-null datetime64[ns]\n",
      "source                  1971 non-null object\n",
      "text                    1971 non-null object\n",
      "rating_numerator        1971 non-null float64\n",
      "rating_denominator      1971 non-null int64\n",
      "name                    1349 non-null object\n",
      "tweet_favorite_count    1971 non-null int64\n",
      "tweet_retweet_count     1971 non-null int64\n",
      "dog_breed               1666 non-null object\n",
      "Posted Image's URL      1971 non-null object\n",
      "dog_stage               303 non-null object\n",
      "dtypes: datetime64[ns](1), float64(1), int64(3), object(7)\n",
      "memory usage: 184.9+ KB\n"
     ]
    },
    {
     "data": {
      "text/plain": [
       "12.00      446\n",
       "10.00      417\n",
       "11.00      392\n",
       "13.00      253\n",
       "9.00       150\n",
       "8.00        95\n",
       "7.00        52\n",
       "14.00       33\n",
       "6.00        32\n",
       "5.00        32\n",
       "3.00        19\n",
       "4.00        16\n",
       "2.00         9\n",
       "1.00         5\n",
       "60.00        1\n",
       "24.00        1\n",
       "99.00        1\n",
       "1776.00      1\n",
       "13.50        1\n",
       "11.27        1\n",
       "165.00       1\n",
       "11.26        1\n",
       "0.00         1\n",
       "84.00        1\n",
       "9.75         1\n",
       "45.00        1\n",
       "88.00        1\n",
       "144.00       1\n",
       "44.00        1\n",
       "121.00       1\n",
       "204.00       1\n",
       "50.00        1\n",
       "80.00        1\n",
       "420.00       1\n",
       "Name: rating_numerator, dtype: int64"
      ]
     },
     "execution_count": 631,
     "metadata": {},
     "output_type": "execute_result"
    }
   ],
   "source": [
    "#Code\n",
    "tweet_archive['rating_numerator']=tweet_archive['rating_numerator'].astype(float)\n",
    "tweet_archive['rating']=tweet_archive['text'].str.extract(r\"(\\d+\\.\\d*\\/\\d+)\")\n",
    "tweet_archive['rating']=tweet_archive['rating'].str.split('/',expand=True)[0]\n",
    "tweet_archive['rating']=tweet_archive['rating'].astype(float)\n",
    "\n",
    "def decimaaal(row) :\n",
    "    if row['rating'] >=0 :\n",
    "        return  row['rating']\n",
    "    else :\n",
    "        return row['rating_numerator']\n",
    "\n",
    "\n",
    "tweet_archive['rating_numerator'] = tweet_archive.apply(decimaaal,axis=1)\n",
    "tweet_archive=tweet_archive.drop('rating',axis=1)  \n",
    "#Test\n",
    "tweet_archive.info()\n",
    "tweet_archive['rating_numerator'].value_counts()\n",
    "\n"
   ]
  },
  {
   "cell_type": "markdown",
   "metadata": {},
   "source": [
    "### 11-\n",
    "### Define : Enhancing source column "
   ]
  },
  {
   "cell_type": "code",
   "execution_count": 632,
   "metadata": {},
   "outputs": [
    {
     "data": {
      "text/plain": [
       "0       Twitter for iPhone\n",
       "1       Twitter for iPhone\n",
       "2       Twitter for iPhone\n",
       "3       Twitter for iPhone\n",
       "4       Twitter for iPhone\n",
       "5       Twitter for iPhone\n",
       "6       Twitter for iPhone\n",
       "7       Twitter for iPhone\n",
       "8       Twitter for iPhone\n",
       "9       Twitter for iPhone\n",
       "10      Twitter for iPhone\n",
       "11      Twitter for iPhone\n",
       "12      Twitter for iPhone\n",
       "13      Twitter for iPhone\n",
       "14      Twitter for iPhone\n",
       "15      Twitter for iPhone\n",
       "16      Twitter for iPhone\n",
       "17      Twitter for iPhone\n",
       "18      Twitter for iPhone\n",
       "19      Twitter for iPhone\n",
       "20      Twitter for iPhone\n",
       "21      Twitter for iPhone\n",
       "22      Twitter for iPhone\n",
       "23      Twitter for iPhone\n",
       "24      Twitter for iPhone\n",
       "25      Twitter for iPhone\n",
       "26      Twitter for iPhone\n",
       "27      Twitter for iPhone\n",
       "28      Twitter for iPhone\n",
       "29      Twitter for iPhone\n",
       "               ...        \n",
       "1941    Twitter for iPhone\n",
       "1942    Twitter for iPhone\n",
       "1943    Twitter for iPhone\n",
       "1944    Twitter for iPhone\n",
       "1945    Twitter for iPhone\n",
       "1946    Twitter for iPhone\n",
       "1947    Twitter for iPhone\n",
       "1948    Twitter for iPhone\n",
       "1949    Twitter for iPhone\n",
       "1950    Twitter for iPhone\n",
       "1951    Twitter for iPhone\n",
       "1952    Twitter for iPhone\n",
       "1953    Twitter for iPhone\n",
       "1954    Twitter for iPhone\n",
       "1955    Twitter for iPhone\n",
       "1956    Twitter for iPhone\n",
       "1957    Twitter for iPhone\n",
       "1958    Twitter for iPhone\n",
       "1959    Twitter for iPhone\n",
       "1960    Twitter for iPhone\n",
       "1961    Twitter for iPhone\n",
       "1962    Twitter for iPhone\n",
       "1963    Twitter for iPhone\n",
       "1964    Twitter for iPhone\n",
       "1965    Twitter for iPhone\n",
       "1966    Twitter for iPhone\n",
       "1967    Twitter for iPhone\n",
       "1968    Twitter for iPhone\n",
       "1969    Twitter for iPhone\n",
       "1970    Twitter for iPhone\n",
       "Name: source, Length: 1971, dtype: object"
      ]
     },
     "execution_count": 632,
     "metadata": {},
     "output_type": "execute_result"
    }
   ],
   "source": [
    "#Code\n",
    "tweet_archive['source']=tweet_archive['source'].str.extract(r'>(.*)<',expand=True)\n",
    "#Test \n",
    "tweet_archive['source']"
   ]
  },
  {
   "cell_type": "markdown",
   "metadata": {},
   "source": [
    "### Storing Data"
   ]
  },
  {
   "cell_type": "code",
   "execution_count": 633,
   "metadata": {},
   "outputs": [],
   "source": [
    "tweet_archive.to_csv(\"twitter_archive_master.csv\",index=False)"
   ]
  },
  {
   "cell_type": "markdown",
   "metadata": {},
   "source": [
    "### Analyzing, and Visualizing Data"
   ]
  },
  {
   "cell_type": "markdown",
   "metadata": {},
   "source": [
    "#### Insight one : Golden retriever is the most common dog in this dataset."
   ]
  },
  {
   "cell_type": "code",
   "execution_count": 634,
   "metadata": {},
   "outputs": [
    {
     "data": {
      "text/plain": [
       "golden retriever                  156\n",
       "Labrador retriever                106\n",
       "Pembroke                           94\n",
       "Chihuahua                          90\n",
       "pug                                62\n",
       "toy poodle                         50\n",
       "chow                               48\n",
       "Samoyed                            42\n",
       "Pomeranian                         41\n",
       "malamute                           33\n",
       "French bulldog                     31\n",
       "Chesapeake Bay retriever           31\n",
       "cocker spaniel                     30\n",
       "miniature pinscher                 24\n",
       "Eskimo dog                         22\n",
       "Cardigan                           21\n",
       "German shepherd                    21\n",
       "Siberian husky                     20\n",
       "Shih-Tzu                           20\n",
       "beagle                             20\n",
       "Staffordshire bullterrier          20\n",
       "Maltese dog                        19\n",
       "Rottweiler                         18\n",
       "Shetland sheepdog                  18\n",
       "Italian greyhound                  17\n",
       "basset                             17\n",
       "Lakeland terrier                   17\n",
       "kuvasz                             17\n",
       "American Staffordshire terrier     16\n",
       "West Highland white terrier        16\n",
       "                                 ... \n",
       "Welsh springer spaniel              4\n",
       "Tibetan terrier                     4\n",
       "Tibetan mastiff                     4\n",
       "Rhodesian ridgeback                 4\n",
       "Irish setter                        4\n",
       "toy terrier                         3\n",
       "komondor                            3\n",
       "Leonberg                            3\n",
       "Greater Swiss Mountain dog          3\n",
       "Irish water spaniel                 3\n",
       "giant schnauzer                     3\n",
       "curly-coated retriever              3\n",
       "Brabancon griffon                   3\n",
       "Afghan hound                        3\n",
       "cairn                               3\n",
       "briard                              3\n",
       "Appenzeller                         2\n",
       "Australian terrier                  2\n",
       "groenendael                         2\n",
       "wire-haired fox terrier             2\n",
       "Sussex spaniel                      2\n",
       "black-and-tan coonhound             2\n",
       "Irish wolfhound                     1\n",
       "standard schnauzer                  1\n",
       "Japanese spaniel                    1\n",
       "Bouvier des Flandres                1\n",
       "Scotch terrier                      1\n",
       "silky terrier                       1\n",
       "clumber                             1\n",
       "EntleBucher                         1\n",
       "Name: dog_breed, Length: 113, dtype: int64"
      ]
     },
     "execution_count": 634,
     "metadata": {},
     "output_type": "execute_result"
    }
   ],
   "source": [
    "tweet_archive['dog_breed'].value_counts()"
   ]
  },
  {
   "cell_type": "markdown",
   "metadata": {},
   "source": [
    "#### Visualization of Insight one"
   ]
  },
  {
   "cell_type": "code",
   "execution_count": 635,
   "metadata": {},
   "outputs": [
    {
     "data": {
      "image/png": "[encoded data removed]",
      "text/plain": [
       "<matplotlib.figure.Figure at 0x7f14ffee27b8>"
      ]
     },
     "metadata": {
      "needs_background": "light"
     },
     "output_type": "display_data"
    }
   ],
   "source": [
    "df_dog_type = tweet_archive.groupby('dog_breed').filter(lambda x: len(x) >= 25)\n",
    "\n",
    "df_dog_type['dog_breed'].value_counts().plot(kind = 'barh')\n",
    "plt.title('Histogram of the Most Rated Dog Type')\n",
    "plt.xlabel('Count')\n",
    "plt.ylabel('Type of dog')\n",
    "\n",
    "\n",
    "fig = plt.gcf() \n",
    "fig.savefig('output.png',bbox_inches='tight');"
   ]
  },
  {
   "cell_type": "markdown",
   "metadata": {},
   "source": [
    "#### Insight two :\n",
    "#### floofer gets the highest average retweets while pupper gets the lowest average retweets"
   ]
  },
  {
   "cell_type": "code",
   "execution_count": 636,
   "metadata": {},
   "outputs": [
    {
     "data": {
      "text/plain": [
       "dog_stage\n",
       "pupper            2382.502488\n",
       "doggo,floofer     3433.000000\n",
       "doggo,pupper      4397.250000\n",
       "floofer           4968.714286\n",
       "puppo             6473.954545\n",
       "doggo             7125.698413\n",
       "doggo,puppo      19196.000000\n",
       "Name: tweet_retweet_count, dtype: float64"
      ]
     },
     "execution_count": 636,
     "metadata": {},
     "output_type": "execute_result"
    }
   ],
   "source": [
    "dogs_mean_data = tweet_archive.groupby('dog_stage').mean()\n",
    "dogs_mean_data = dogs_mean_data['tweet_retweet_count'].sort_values()\n",
    "dogs_mean_data"
   ]
  },
  {
   "cell_type": "markdown",
   "metadata": {},
   "source": [
    "#### Insight three :\n",
    "#### Brabancon griffon gets the lowest number of favourites while Saluki gets the highest favourites"
   ]
  },
  {
   "cell_type": "code",
   "execution_count": 637,
   "metadata": {},
   "outputs": [
    {
     "data": {
      "text/plain": [
       "dog_breed\n",
       "Brabancon griffon                885.000000\n",
       "groenendael                     1156.500000\n",
       "Japanese spaniel                1362.000000\n",
       "Irish wolfhound                 1534.000000\n",
       "Tibetan terrier                 1841.000000\n",
       "standard schnauzer              2046.000000\n",
       "Scottish deerhound              2305.000000\n",
       "basenji                         2503.777778\n",
       "Lhasa                           2659.800000\n",
       "EntleBucher                     2678.000000\n",
       "Maltese dog                     2959.684211\n",
       "toy terrier                     3181.666667\n",
       "Ibizan hound                    3275.000000\n",
       "redbone                         3296.333333\n",
       "miniature schnauzer             3409.000000\n",
       "soft-coated wheaten terrier     3431.500000\n",
       "miniature poodle                3456.875000\n",
       "Dandie Dinmont                  3464.571429\n",
       "Shih-Tzu                        3593.350000\n",
       "Scotch terrier                  3624.000000\n",
       "Rhodesian ridgeback             4041.000000\n",
       "Sussex spaniel                  4061.500000\n",
       "papillon                        4402.571429\n",
       "beagle                          4407.950000\n",
       "Saint Bernard                   4579.142857\n",
       "Yorkshire terrier               4595.000000\n",
       "curly-coated retriever          4612.000000\n",
       "English setter                  4857.375000\n",
       "keeshond                        4914.750000\n",
       "bluetick                        5034.500000\n",
       "                                   ...     \n",
       "Norwich terrier                10806.000000\n",
       "Pembroke                       11051.031915\n",
       "bloodhound                     11080.285714\n",
       "Australian terrier             11127.500000\n",
       "Norwegian elkhound             11293.545455\n",
       "giant schnauzer                11658.000000\n",
       "basset                         11762.058824\n",
       "Labrador retriever             11937.311321\n",
       "Lakeland terrier               11952.588235\n",
       "Weimaraner                     11982.750000\n",
       "Tibetan mastiff                12173.500000\n",
       "Great Pyrenees                 12456.466667\n",
       "golden retriever               12460.141026\n",
       "Cardigan                       12840.190476\n",
       "whippet                        12911.454545\n",
       "Border terrier                 13578.000000\n",
       "cocker spaniel                 13580.400000\n",
       "Mexican hairless               13590.571429\n",
       "Samoyed                        13902.523810\n",
       "standard poodle                13912.818182\n",
       "English springer               14138.300000\n",
       "Leonberg                       14934.333333\n",
       "Irish water spaniel            16400.000000\n",
       "flat-coated retriever          16791.625000\n",
       "black-and-tan coonhound        17012.000000\n",
       "Afghan hound                   17326.666667\n",
       "Bouvier des Flandres           18032.000000\n",
       "French bulldog                 18416.806452\n",
       "Bedlington terrier             21153.166667\n",
       "Saluki                         24060.000000\n",
       "Name: tweet_favorite_count, Length: 113, dtype: float64"
      ]
     },
     "execution_count": 637,
     "metadata": {},
     "output_type": "execute_result"
    }
   ],
   "source": [
    "dogs_mean_data = tweet_archive.groupby('dog_breed').mean()\n",
    "dogs_mean_data = dogs_mean_data['tweet_favorite_count'].sort_values()\n",
    "dogs_mean_data"
   ]
  },
  {
   "cell_type": "code",
   "execution_count": null,
   "metadata": {},
   "outputs": [],
   "source": []
  },
  {
   "cell_type": "code",
   "execution_count": null,
   "metadata": {},
   "outputs": [],
   "source": []
  },
  {
   "cell_type": "code",
   "execution_count": null,
   "metadata": {},
   "outputs": [],
   "source": []
  },
  {
   "cell_type": "code",
   "execution_count": null,
   "metadata": {},
   "outputs": [],
   "source": []
  },
  {
   "cell_type": "code",
   "execution_count": null,
   "metadata": {},
   "outputs": [],
   "source": []
  },
  {
   "cell_type": "code",
   "execution_count": null,
   "metadata": {},
   "outputs": [],
   "source": []
  },
  {
   "cell_type": "code",
   "execution_count": null,
   "metadata": {},
   "outputs": [],
   "source": []
  },
  {
   "cell_type": "code",
   "execution_count": null,
   "metadata": {},
   "outputs": [],
   "source": []
  },
  {
   "cell_type": "code",
   "execution_count": null,
   "metadata": {},
   "outputs": [],
   "source": []
  },
  {
   "cell_type": "code",
   "execution_count": null,
   "metadata": {},
   "outputs": [],
   "source": []
  },
  {
   "cell_type": "code",
   "execution_count": null,
   "metadata": {},
   "outputs": [],
   "source": []
  },
  {
   "cell_type": "code",
   "execution_count": null,
   "metadata": {},
   "outputs": [],
   "source": []
  },
  {
   "cell_type": "code",
   "execution_count": null,
   "metadata": {},
   "outputs": [],
   "source": []
  },
  {
   "cell_type": "code",
   "execution_count": null,
   "metadata": {},
   "outputs": [],
   "source": []
  },
  {
   "cell_type": "code",
   "execution_count": null,
   "metadata": {},
   "outputs": [],
   "source": []
  },
  {
   "cell_type": "code",
   "execution_count": null,
   "metadata": {},
   "outputs": [],
   "source": []
  },
  {
   "cell_type": "code",
   "execution_count": null,
   "metadata": {},
   "outputs": [],
   "source": []
  }
 ],
 "metadata": {
  "kernelspec": {
   "display_name": "Python 3",
   "language": "python",
   "name": "python3"
  },
  "language_info": {
   "codemirror_mode": {
    "name": "ipython",
    "version": 3
   },
   "file_extension": ".py",
   "mimetype": "text/x-python",
   "name": "python",
   "nbconvert_exporter": "python",
   "pygments_lexer": "ipython3",
   "version": "3.6.3"
  }
 },
 "nbformat": 4,
 "nbformat_minor": 2
}
